{
 "cells": [
  {
   "cell_type": "code",
   "execution_count": 1,
   "metadata": {},
   "outputs": [],
   "source": [
    "import os, sys, glob, time\n",
    "sys.path.append(\"../pyusct\")\n",
    "\n",
    "from raw_dataset_trainer_3d import Raw_dataset_trainer"
   ]
  },
  {
   "cell_type": "code",
   "execution_count": 2,
   "metadata": {
    "collapsed": true
   },
   "outputs": [],
   "source": [
    "\n",
    "LOCAL_PATH = \"/mnt/nas/\"\n",
    "MODEL_DIR = os.path.join(LOCAL_PATH, \"PYUSCT_model/\")\n",
    "DATA_DIR = os.path.join(LOCAL_PATH, \"PYUSCT_train/\")\n",
    "dataset_dir = os.path.join(DATA_DIR, \"dataset036/\")\n",
    "model_output_path = os.path.join(MODEL_DIR, \"clf/deep/\")\n",
    "scaler_path = os.path.join(MODEL_DIR, \"Scaler/Log_MinMax_RFScaler_ds028.pickle\")\n",
    "AE_weight_path = os.path.join(MODEL_DIR, \"AE/rf_conv_AE_Log_MinMax_ds036.pth\")\n"
   ]
  },
  {
   "cell_type": "code",
   "execution_count": 3,
   "metadata": {},
   "outputs": [],
   "source": [
    "trainer = Raw_dataset_trainer(dataset_dir, AE_weight_path, scaler_path, model_output_path, epochs=100)"
   ]
  },
  {
   "cell_type": "code",
   "execution_count": null,
   "metadata": {},
   "outputs": [
    {
     "name": "stdout",
     "output_type": "stream",
     "text": [
      "/mnt/nas/PYUSCT_model/clf/deep/dataset036_lr_0.001_epoch_100_batchsize_32/\n"
     ]
    }
   ],
   "source": [
    "print(trainer.output_path)"
   ]
  },
  {
   "cell_type": "code",
   "execution_count": null,
   "metadata": {},
   "outputs": [
    {
     "name": "stdout",
     "output_type": "stream",
     "text": [
      "start training\n",
      "Epoch: 0 Iter 0 Loss: 0.7434643507003784 Time: 1.2761247158050537\n",
      "Epoch: 0 Iter 1 Loss: 0.6898011565208435 Time: 1.1988716125488281\n",
      "Epoch: 0 Iter 2 Loss: 0.7546190023422241 Time: 1.2303237915039062\n",
      "Epoch: 0 Iter 3 Loss: 0.7429724335670471 Time: 1.2091271877288818\n",
      "Epoch: 0 Iter 4 Loss: 0.6858662366867065 Time: 1.2248523235321045\n",
      "Epoch: 0 Iter 5 Loss: 0.8123339414596558 Time: 1.2080812454223633\n",
      "Epoch: 0 Iter 6 Loss: 0.6996682286262512 Time: 1.2609856128692627\n",
      "Epoch: 0 Iter 7 Loss: 0.6412824392318726 Time: 1.2706611156463623\n",
      "Epoch: 0 Iter 8 Loss: 0.7273977994918823 Time: 1.3196816444396973\n",
      "Epoch: 0 Iter 9 Loss: 0.7153198719024658 Time: 1.207782506942749\n",
      "Epoch: 0 Iter 10 Loss: 0.7585268616676331 Time: 1.2416667938232422\n",
      "Epoch: 0 Iter 11 Loss: 0.7374719381332397 Time: 1.2400226593017578\n",
      "Epoch: 0 Iter 12 Loss: 0.6755278706550598 Time: 1.2663915157318115\n",
      "Epoch: 0 Iter 13 Loss: 0.7365604639053345 Time: 1.2265455722808838\n",
      "Epoch: 0 Iter 14 Loss: 0.6595116257667542 Time: 1.2697749137878418\n",
      "Epoch: 0 Iter 15 Loss: 0.7386201620101929 Time: 1.260284662246704\n",
      "Epoch: 0 Iter 16 Loss: 0.7686840891838074 Time: 1.213667869567871\n",
      "Epoch: 0 Iter 17 Loss: 0.6938208937644958 Time: 1.2775366306304932\n",
      "Epoch: 0 Iter 18 Loss: 0.6774008274078369 Time: 1.270613431930542\n",
      "Epoch: 0 Iter 19 Loss: 0.6900089383125305 Time: 1.3124349117279053\n",
      "Epoch: 0 Iter 20 Loss: 0.7489594221115112 Time: 1.2916743755340576\n",
      "Epoch: 0 Iter 21 Loss: 0.6658044457435608 Time: 1.2291018962860107\n",
      "Epoch: 0 Iter 22 Loss: 0.7329679131507874 Time: 1.1946840286254883\n",
      "Epoch: 0 Iter 23 Loss: 0.7377172708511353 Time: 1.2155773639678955\n",
      "Epoch: 0 Iter 24 Loss: 0.6860311627388 Time: 1.1906795501708984\n",
      "Epoch: 0 Iter 25 Loss: 0.6732732653617859 Time: 1.1950275897979736\n",
      "Epoch: 0 Iter 26 Loss: 0.6867850422859192 Time: 1.197246789932251\n",
      "Epoch: 0 Iter 27 Loss: 0.7576313018798828 Time: 1.2016041278839111\n",
      "Epoch: 0 Iter 28 Loss: 0.7268945574760437 Time: 1.2593638896942139\n",
      "Epoch: 0 Iter 29 Loss: 0.6756038069725037 Time: 1.19586181640625\n",
      "Epoch: 0 Iter 30 Loss: 0.6613341569900513 Time: 1.2019109725952148\n",
      "Epoch: 0 Iter 31 Loss: 0.6776747703552246 Time: 1.1933155059814453\n",
      "Epoch: 0 Iter 32 Loss: 0.7368261218070984 Time: 1.2108359336853027\n",
      "Epoch: 0 Iter 33 Loss: 0.77889084815979 Time: 1.1945216655731201\n",
      "Epoch: 0 Iter 34 Loss: 0.7266515493392944 Time: 1.1938714981079102\n",
      "Epoch: 0 Iter 35 Loss: 0.7416128516197205 Time: 1.1988286972045898\n",
      "Epoch: 0 Iter 36 Loss: 0.6842319369316101 Time: 1.1951606273651123\n",
      "Epoch: 0 Iter 37 Loss: 0.628314733505249 Time: 1.2079617977142334\n",
      "Epoch: 0 Iter 38 Loss: 0.7465199828147888 Time: 1.2734155654907227\n",
      "Epoch: 0 Iter 39 Loss: 0.6346907615661621 Time: 1.3645837306976318\n",
      "Epoch: 0 Iter 40 Loss: 0.7348446846008301 Time: 1.2900986671447754\n",
      "Epoch: 0 Iter 41 Loss: 0.7085158824920654 Time: 1.2898991107940674\n",
      "Epoch: 0 Iter 42 Loss: 0.6664738655090332 Time: 1.2723097801208496\n",
      "Epoch: 0 Iter 43 Loss: 0.735469400882721 Time: 1.2321429252624512\n",
      "Epoch: 0 Iter 44 Loss: 0.7017138004302979 Time: 1.2866549491882324\n",
      "Epoch: 0 Iter 45 Loss: 0.7321919202804565 Time: 1.2747869491577148\n",
      "Epoch: 0 Iter 46 Loss: 0.7473390698432922 Time: 1.2906086444854736\n",
      "Epoch: 0 Iter 47 Loss: 0.6480075120925903 Time: 1.295647382736206\n",
      "Epoch: 0 Iter 48 Loss: 0.728752851486206 Time: 1.2990741729736328\n",
      "Epoch: 0 Iter 49 Loss: 0.7506133913993835 Time: 1.2266647815704346\n",
      "Epoch: 0 Iter 50 Loss: 0.6458271145820618 Time: 1.2367043495178223\n",
      "Epoch: 0 Iter 51 Loss: 0.6599600315093994 Time: 1.2644107341766357\n",
      "Epoch: 0 Iter 52 Loss: 0.7173230648040771 Time: 1.2369441986083984\n"
     ]
    }
   ],
   "source": [
    "trainer.train()"
   ]
  },
  {
   "cell_type": "code",
   "execution_count": null,
   "metadata": {
    "collapsed": true
   },
   "outputs": [],
   "source": [
    "import matplotlib.pyplot as plt\n",
    "%matplotlib inline"
   ]
  },
  {
   "cell_type": "code",
   "execution_count": null,
   "metadata": {
    "collapsed": true
   },
   "outputs": [],
   "source": [
    "trainer.plot_learn_curve()"
   ]
  },
  {
   "cell_type": "code",
   "execution_count": null,
   "metadata": {
    "collapsed": true
   },
   "outputs": [],
   "source": [
    "print(len(trainer.epoch_loss))"
   ]
  },
  {
   "cell_type": "code",
   "execution_count": null,
   "metadata": {
    "collapsed": true
   },
   "outputs": [],
   "source": []
  }
 ],
 "metadata": {
  "kernelspec": {
   "display_name": "Python 3",
   "language": "python",
   "name": "python3"
  },
  "language_info": {
   "codemirror_mode": {
    "name": "ipython",
    "version": 3
   },
   "file_extension": ".py",
   "mimetype": "text/x-python",
   "name": "python",
   "nbconvert_exporter": "python",
   "pygments_lexer": "ipython3",
   "version": "3.6.3"
  }
 },
 "nbformat": 4,
 "nbformat_minor": 2
}
