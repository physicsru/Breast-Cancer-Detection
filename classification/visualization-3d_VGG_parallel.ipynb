{
 "cells": [
  {
   "cell_type": "code",
   "execution_count": 1,
   "metadata": {},
   "outputs": [
    {
     "name": "stderr",
     "output_type": "stream",
     "text": [
      "/root/.pyenv/versions/anaconda3-5.0.1/lib/python3.6/site-packages/h5py/__init__.py:34: FutureWarning: Conversion of the second argument of issubdtype from `float` to `np.floating` is deprecated. In future, it will be treated as `np.float64 == np.dtype(float).type`.\n",
      "  from ._conv import register_converters as _register_converters\n"
     ]
    }
   ],
   "source": [
    "import os, sys, glob, time\n",
    "sys.path.append(\"../pyusct/\")\n",
    "from model import Conv_3d_VGG_parallel\n",
    "from visualizer import Visualizer\n",
    "from rfdata import RFdata"
   ]
  },
  {
   "cell_type": "code",
   "execution_count": 2,
   "metadata": {
    "collapsed": true
   },
   "outputs": [],
   "source": [
    "LOCAL_PATH = \"/mnt/nas/\"\n",
    "MODEL_DIR = os.path.join(LOCAL_PATH, \"PYUSCT_model/\")\n",
    "DATA_DIR = os.path.join(LOCAL_PATH, \"PYUSCT_train/\")\n",
    "scaler_path = os.path.join(MODEL_DIR, \"Scaler/Log_MinMax_RFScaler_ds028.pickle\")"
   ]
  },
  {
   "cell_type": "code",
   "execution_count": 3,
   "metadata": {
    "collapsed": true
   },
   "outputs": [],
   "source": [
    "model_path = os.path.join(MODEL_DIR, \"clf/deep/20181004-052110/\")"
   ]
  },
  {
   "cell_type": "code",
   "execution_count": 4,
   "metadata": {
    "collapsed": true
   },
   "outputs": [],
   "source": [
    "source_path = os.path.join(LOCAL_PATH, \"nb_usctsim/sim_015/trial_001/\")\n",
    "model_params = os.path.join(model_path, \"3d_VGG_raw_data_epoch_47.pth\")"
   ]
  },
  {
   "cell_type": "code",
   "execution_count": 5,
   "metadata": {
    "collapsed": true
   },
   "outputs": [],
   "source": [
    "source = RFdata(source_path)\n",
    "model = Conv_3d_VGG_parallel(scaler_path, model_params)\n",
    "visualizer = Visualizer(source, model=model)"
   ]
  },
  {
   "cell_type": "code",
   "execution_count": null,
   "metadata": {
    "collapsed": true
   },
   "outputs": [],
   "source": [
    "import matplotlib.pyplot as plt\n",
    "%matplotlib inline"
   ]
  },
  {
   "cell_type": "raw",
   "metadata": {
    "collapsed": true,
    "scrolled": false
   },
   "source": [
    "fig = plt.figure(figsize=(16,12))\n",
    "plt.imshow(visualizer.rf.medium_sct)"
   ]
  },
  {
   "cell_type": "code",
   "execution_count": null,
   "metadata": {
    "scrolled": true
   },
   "outputs": [
    {
     "name": "stdout",
     "output_type": "stream",
     "text": [
      "predict point 31\n",
      "predict point 63\n",
      "predict point 95\n",
      "predict point 127\n",
      "predict point 159\n",
      "predict point 191\n",
      "predict point 223\n",
      "predict point 255\n",
      "predict point 287\n",
      "predict point 319\n",
      "predict point 351\n",
      "predict point 383\n",
      "predict point 415\n",
      "predict point 447\n",
      "predict point 479\n",
      "predict point 511\n",
      "predict point 543\n",
      "predict point 575\n",
      "predict point 607\n",
      "predict point 639\n",
      "predict point 671\n",
      "predict point 703\n",
      "predict point 735\n",
      "predict point 767\n",
      "predict point 799\n",
      "predict point 831\n",
      "predict point 863\n",
      "predict point 895\n",
      "predict point 927\n",
      "predict point 959\n",
      "predict point 991\n",
      "predict point 1023\n",
      "predict point 1055\n",
      "predict point 1087\n",
      "predict point 1119\n",
      "predict point 1151\n",
      "predict point 1183\n",
      "predict point 1215\n",
      "predict point 1247\n",
      "predict point 1279\n",
      "predict point 1311\n",
      "predict point 1343\n",
      "predict point 1375\n",
      "predict point 1407\n",
      "predict point 1439\n",
      "predict point 1471\n",
      "predict point 1503\n",
      "predict point 1535\n",
      "predict point 1567\n",
      "predict point 1599\n",
      "predict point 1631\n",
      "predict point 1663\n",
      "predict point 1695\n",
      "predict point 1727\n",
      "predict point 1759\n",
      "predict point 1791\n",
      "predict point 1823\n",
      "predict point 1855\n",
      "predict point 1887\n",
      "predict point 1919\n",
      "predict point 1951\n",
      "predict point 1983\n",
      "predict point 2015\n",
      "predict point 2047\n",
      "predict point 2079\n",
      "predict point 2111\n",
      "predict point 2143\n",
      "predict point 2175\n",
      "predict point 2207\n",
      "predict point 2239\n",
      "predict point 2271\n",
      "predict point 2303\n",
      "predict point 2335\n",
      "predict point 2367\n",
      "predict point 2399\n",
      "predict point 2431\n",
      "predict point 2463\n",
      "predict point 2495\n",
      "predict point 2527\n",
      "predict point 2559\n",
      "predict point 2591\n",
      "predict point 2623\n",
      "predict point 2655\n",
      "predict point 2687\n",
      "predict point 2719\n",
      "predict point 2751\n",
      "predict point 2783\n",
      "predict point 2815\n",
      "predict point 2847\n",
      "predict point 2879\n",
      "predict point 2911\n",
      "predict point 2943\n",
      "predict point 2975\n",
      "predict point 3007\n",
      "predict point 3039\n",
      "predict point 3071\n",
      "predict point 3103\n"
     ]
    }
   ],
   "source": [
    "visualizer.extract_subimage(shape=[512, 512], batch_size=32)"
   ]
  },
  {
   "cell_type": "code",
   "execution_count": null,
   "metadata": {
    "collapsed": true
   },
   "outputs": [],
   "source": [
    "visualizer.visualize_prob()"
   ]
  },
  {
   "cell_type": "code",
   "execution_count": null,
   "metadata": {
    "collapsed": true,
    "scrolled": true
   },
   "outputs": [],
   "source": [
    "visualizer.visualize_01()"
   ]
  },
  {
   "cell_type": "code",
   "execution_count": null,
   "metadata": {
    "collapsed": true
   },
   "outputs": [],
   "source": [
    "visualizer.res"
   ]
  },
  {
   "cell_type": "code",
   "execution_count": null,
   "metadata": {
    "collapsed": true
   },
   "outputs": [],
   "source": [
    "%pwd"
   ]
  },
  {
   "cell_type": "code",
   "execution_count": null,
   "metadata": {
    "collapsed": true
   },
   "outputs": [],
   "source": [
    "import numpy as np"
   ]
  },
  {
   "cell_type": "code",
   "execution_count": null,
   "metadata": {
    "collapsed": true
   },
   "outputs": [],
   "source": [
    "np.save(\"res.npy\", visualizer.res)"
   ]
  },
  {
   "cell_type": "code",
   "execution_count": null,
   "metadata": {
    "collapsed": true
   },
   "outputs": [],
   "source": []
  }
 ],
 "metadata": {
  "kernelspec": {
   "display_name": "Python 3",
   "language": "python",
   "name": "python3"
  },
  "language_info": {
   "codemirror_mode": {
    "name": "ipython",
    "version": 3
   },
   "file_extension": ".py",
   "mimetype": "text/x-python",
   "name": "python",
   "nbconvert_exporter": "python",
   "pygments_lexer": "ipython3",
   "version": "3.6.3"
  }
 },
 "nbformat": 4,
 "nbformat_minor": 2
}
