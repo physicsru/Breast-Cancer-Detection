{
 "cells": [
  {
   "cell_type": "code",
   "execution_count": null,
   "metadata": {
    "collapsed": true
   },
   "outputs": [],
   "source": [
    "import os, sys, glob, time\n",
    "sys.path.append(\"../pyusct/\")\n",
    "from trainer import Trainer_2d"
   ]
  },
  {
   "cell_type": "code",
   "execution_count": null,
   "metadata": {
    "collapsed": true
   },
   "outputs": [],
   "source": [
    "LOCAL_PATH = \"/mnt/nas/\"\n",
    "MODEL_DIR = os.path.join(LOCAL_PATH, \"PYUSCT_model/\")\n",
    "DATA_DIR = os.path.join(LOCAL_PATH, \"PYUSCT_train/\")\n",
    "dataset_dir = os.path.join(DATA_DIR, \"dataset036/\")\n",
    "model_output_path = os.path.join(MODEL_DIR, \"clf/deep/\")\n",
    "scaler_path = os.path.join(MODEL_DIR, \"Scaler/Log_MinMax_RFScaler_ds028.pickle\")\n",
    "AE_weight_path = os.path.join(MODEL_DIR, \"AE/rf_conv_AE_Log_MinMax_ds036.pth\")"
   ]
  },
  {
   "cell_type": "code",
   "execution_count": null,
   "metadata": {
    "collapsed": true
   },
   "outputs": [],
   "source": [
    "trainer = Trainer_2d(dataset_dir, AE_weight_path, scaler_path, model_output_path)"
   ]
  },
  {
   "cell_type": "code",
   "execution_count": null,
   "metadata": {
    "collapsed": true
   },
   "outputs": [],
   "source": [
    "model_path = os.path.join(MODEL_DIR, \"clf/deep/_lr_0.001_epoch_100_batchsize_32/\")"
   ]
  },
  {
   "cell_type": "code",
   "execution_count": null,
   "metadata": {},
   "outputs": [],
   "source": [
    "print(model_output_path)\n",
    "model_params = [os.path.join(model_path, \"ae_raw_data_epoch_20.pth\"),\n",
    "                os.path.join(model_path, \"clf_raw_data_epoch_20.pth\")]"
   ]
  },
  {
   "cell_type": "code",
   "execution_count": null,
   "metadata": {
    "scrolled": true
   },
   "outputs": [],
   "source": [
    "print(model_params)\n",
    "trainer.test(model_params)"
   ]
  },
  {
   "cell_type": "raw",
   "metadata": {
    "collapsed": true
   },
   "source": [
    "epoches = 40      \n",
    "accuracy: 0.8622\n",
    "f1_score: 0.8663\n",
    "precision: 0.8379\n",
    "recall 0.9076\n",
    "loss 0.3462"
   ]
  },
  {
   "cell_type": "raw",
   "metadata": {},
   "source": [
    "epoches = 90\n",
    "accuracy: 0.8524\n",
    "f1_score: 0.8551\n",
    "precision: 0.8382\n",
    "recall 0.8817\n",
    "loss 0.4034"
   ]
  },
  {
   "cell_type": "raw",
   "metadata": {},
   "source": [
    "epoches = 100\n",
    "accuracy: 0.8481\n",
    "f1_score: 0.8481\n",
    "precision: 0.8452\n",
    "recall 0.8617\n",
    "loss 0.4393"
   ]
  },
  {
   "cell_type": "raw",
   "metadata": {},
   "source": [
    "epochs = 20 \n",
    "accuracy: 0.8693\n",
    "f1_score: 0.8715\n",
    "precision: 0.8536\n",
    "recall 0.9007\n",
    "loss 0.3223"
   ]
  }
 ],
 "metadata": {
  "kernelspec": {
   "display_name": "Python 3",
   "language": "python",
   "name": "python3"
  },
  "language_info": {
   "codemirror_mode": {
    "name": "ipython",
    "version": 3
   },
   "file_extension": ".py",
   "mimetype": "text/x-python",
   "name": "python",
   "nbconvert_exporter": "python",
   "pygments_lexer": "ipython3",
   "version": "3.6.3"
  }
 },
 "nbformat": 4,
 "nbformat_minor": 2
}
