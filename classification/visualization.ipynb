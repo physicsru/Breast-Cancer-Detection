{
 "cells": [
  {
   "cell_type": "code",
   "execution_count": 1,
   "metadata": {},
   "outputs": [
    {
     "name": "stderr",
     "output_type": "stream",
     "text": [
      "/root/.pyenv/versions/anaconda3-5.0.1/lib/python3.6/site-packages/h5py/__init__.py:34: FutureWarning: Conversion of the second argument of issubdtype from `float` to `np.floating` is deprecated. In future, it will be treated as `np.float64 == np.dtype(float).type`.\n",
      "  from ._conv import register_converters as _register_converters\n"
     ]
    }
   ],
   "source": [
    "import os, sys, glob, time\n",
    "sys.path.append(\"./model/\")\n",
    "sys.path.append(\"../preprocess/pyusct/\")\n",
    "from raw_dataset_model import Raw_dataset_clf\n",
    "from raw_dataset_trainer import Raw_dataset_trainer\n",
    "from visualizer import Visualizer"
   ]
  },
  {
   "cell_type": "code",
   "execution_count": 2,
   "metadata": {
    "collapsed": true
   },
   "outputs": [],
   "source": [
    "LOCAL_PATH = \"/mnt/nas/\"\n",
    "MODEL_DIR = os.path.join(LOCAL_PATH, \"PYUSCT_model/\")\n",
    "DATA_DIR = os.path.join(LOCAL_PATH, \"PYUSCT_train/\")\n",
    "dataset_dir = os.path.join(DATA_DIR, \"dataset036/\")\n",
    "model_path = os.path.join(MODEL_DIR, \"clf/deep/\")\n",
    "scaler_path = os.path.join(MODEL_DIR, \"Scaler/Log_MinMax_RFScaler_ds028.pickle\")\n",
    "AE_weight_path = os.path.join(MODEL_DIR, \"AE/rf_conv_AE_Log_MinMax_ds036.pth\")"
   ]
  },
  {
   "cell_type": "code",
   "execution_count": 3,
   "metadata": {},
   "outputs": [],
   "source": [
    "source = os.path.join(LOCAL_PATH, \"nb_usctsim/sim_015/trial_001/\")\n",
    "model_params = [os.path.join(model_path, \"ae_epoch_e325.pth\"),\n",
    "                os.path.join(model_path, \"clf_epoch_e325.pth\")]"
   ]
  },
  {
   "cell_type": "code",
   "execution_count": 4,
   "metadata": {},
   "outputs": [],
   "source": [
    "visualizer = Visualizer(source, scaler_path, model_params)"
   ]
  },
  {
   "cell_type": "code",
   "execution_count": 5,
   "metadata": {},
   "outputs": [
    {
     "data": {
      "image/png": "[encoded data removed]",
      "text/plain": [
       "<matplotlib.figure.Figure at 0x7fdfc86d4cc0>"
      ]
     },
     "metadata": {},
     "output_type": "display_data"
    }
   ],
   "source": [
    "visualizer.test()"
   ]
  },
  {
   "cell_type": "code",
   "execution_count": 6,
   "metadata": {
    "scrolled": true
   },
   "outputs": [
    {
     "name": "stdout",
     "output_type": "stream",
     "text": [
      "predict point 31\n",
      "predict point 63\n",
      "predict point 95\n",
      "predict point 127\n",
      "predict point 159\n",
      "predict point 191\n",
      "predict point 223\n",
      "predict point 255\n",
      "predict point 287\n",
      "predict point 319\n",
      "predict point 351\n",
      "predict point 383\n",
      "predict point 415\n",
      "predict point 447\n",
      "predict point 479\n",
      "predict point 511\n",
      "predict point 543\n",
      "predict point 575\n",
      "predict point 607\n",
      "predict point 639\n",
      "predict point 671\n",
      "predict point 703\n",
      "predict point 735\n",
      "predict point 767\n",
      "predict point 799\n",
      "predict point 831\n",
      "predict point 863\n",
      "predict point 895\n",
      "predict point 927\n",
      "predict point 959\n",
      "predict point 991\n",
      "predict point 1023\n",
      "predict point 1055\n",
      "predict point 1087\n",
      "predict point 1119\n",
      "predict point 1151\n",
      "predict point 1183\n",
      "predict point 1215\n",
      "predict point 1247\n",
      "predict point 1279\n",
      "predict point 1311\n",
      "predict point 1343\n",
      "predict point 1375\n",
      "predict point 1407\n",
      "predict point 1439\n",
      "predict point 1471\n",
      "predict point 1503\n",
      "predict point 1535\n",
      "predict point 1567\n",
      "predict point 1599\n",
      "predict point 1631\n",
      "predict point 1663\n",
      "predict point 1695\n",
      "predict point 1727\n",
      "predict point 1759\n",
      "predict point 1791\n",
      "predict point 1823\n",
      "predict point 1855\n",
      "predict point 1887\n",
      "predict point 1919\n",
      "predict point 1951\n",
      "predict point 1983\n",
      "predict point 2015\n",
      "predict point 2047\n",
      "predict point 2079\n",
      "predict point 2111\n",
      "predict point 2143\n",
      "predict point 2175\n",
      "predict point 2207\n",
      "predict point 2239\n",
      "predict point 2271\n",
      "predict point 2303\n",
      "predict point 2335\n",
      "predict point 2367\n",
      "predict point 2399\n",
      "predict point 2431\n",
      "predict point 2463\n",
      "predict point 2495\n",
      "predict point 2527\n",
      "predict point 2559\n",
      "predict point 2591\n",
      "predict point 2623\n",
      "predict point 2655\n",
      "predict point 2687\n",
      "predict point 2719\n",
      "predict point 2751\n",
      "predict point 2783\n",
      "predict point 2815\n",
      "predict point 2847\n",
      "predict point 2879\n",
      "predict point 2911\n",
      "predict point 2943\n",
      "predict point 2975\n",
      "predict point 3007\n",
      "predict point 3039\n",
      "predict point 3071\n",
      "predict point 3103\n",
      "predict point 3135\n",
      "predict point 3167\n",
      "predict point 3199\n",
      "predict point 3231\n",
      "predict point 3263\n",
      "predict point 3295\n",
      "predict point 3327\n",
      "predict point 3359\n",
      "predict point 3391\n",
      "predict point 3423\n",
      "predict point 3455\n",
      "predict point 3487\n",
      "predict point 3519\n",
      "predict point 3551\n",
      "predict point 3583\n",
      "predict point 3615\n",
      "predict point 3647\n",
      "predict point 3679\n",
      "predict point 3711\n",
      "predict point 3743\n",
      "predict point 3775\n",
      "predict point 3807\n",
      "predict point 3839\n",
      "predict point 3871\n",
      "predict point 3903\n",
      "predict point 3935\n",
      "predict point 3967\n",
      "predict point 3999\n",
      "predict point 4031\n",
      "predict point 4063\n",
      "predict point 4095\n",
      "predict point 4127\n",
      "predict point 4159\n",
      "predict point 4191\n",
      "predict point 4223\n",
      "predict point 4255\n",
      "predict point 4287\n",
      "predict point 4319\n",
      "predict point 4351\n",
      "predict point 4383\n",
      "predict point 4415\n",
      "predict point 4447\n",
      "predict point 4479\n",
      "predict point 4511\n",
      "predict point 4543\n",
      "predict point 4575\n",
      "predict point 4607\n",
      "predict point 4639\n",
      "predict point 4671\n",
      "predict point 4703\n",
      "predict point 4735\n",
      "predict point 4767\n",
      "predict point 4799\n",
      "predict point 4831\n",
      "predict point 4863\n",
      "predict point 4895\n",
      "predict point 4927\n",
      "predict point 4959\n",
      "predict point 4991\n",
      "predict point 5023\n",
      "predict point 5055\n",
      "predict point 5087\n",
      "predict point 5119\n",
      "predict point 5151\n",
      "predict point 5183\n",
      "predict point 5215\n",
      "predict point 5247\n",
      "predict point 5279\n",
      "predict point 5311\n",
      "predict point 5343\n",
      "predict point 5375\n",
      "predict point 5407\n",
      "predict point 5439\n",
      "predict point 5471\n",
      "predict point 5503\n",
      "predict point 5535\n",
      "predict point 5567\n",
      "predict point 5599\n",
      "predict point 5631\n",
      "predict point 5663\n",
      "predict point 5695\n",
      "predict point 5727\n",
      "predict point 5759\n",
      "predict point 5791\n",
      "predict point 5823\n",
      "predict point 5855\n",
      "predict point 5887\n",
      "predict point 5919\n",
      "predict point 5951\n",
      "predict point 5983\n",
      "predict point 6015\n",
      "predict point 6047\n",
      "predict point 6079\n",
      "predict point 6111\n",
      "predict point 6143\n",
      "predict point 6175\n",
      "predict point 6207\n",
      "predict point 6239\n",
      "predict point 6271\n",
      "predict point 6303\n",
      "predict point 6335\n",
      "predict point 6367\n",
      "predict point 6399\n",
      "predict point 6431\n",
      "predict point 6463\n",
      "predict point 6495\n",
      "predict point 6527\n",
      "predict point 6559\n",
      "predict point 6591\n",
      "predict point 6623\n",
      "predict point 6655\n",
      "predict point 6687\n",
      "predict point 6719\n",
      "predict point 6751\n",
      "predict point 6783\n",
      "predict point 6815\n",
      "predict point 6847\n",
      "predict point 6879\n",
      "predict point 6911\n",
      "predict point 6943\n",
      "predict point 6975\n",
      "predict point 7007\n",
      "predict point 7039\n",
      "predict point 7071\n",
      "predict point 7103\n",
      "predict point 7135\n",
      "predict point 7167\n",
      "predict point 7199\n",
      "predict point 7231\n",
      "predict point 7263\n",
      "predict point 7295\n",
      "predict point 7327\n",
      "predict point 7359\n",
      "predict point 7391\n",
      "predict point 7423\n",
      "predict point 7455\n",
      "predict point 7487\n",
      "predict point 7519\n",
      "predict point 7551\n",
      "predict point 7583\n",
      "predict point 7615\n",
      "predict point 7647\n",
      "predict point 7679\n",
      "predict point 7711\n",
      "predict point 7743\n",
      "predict point 7775\n",
      "predict point 7807\n",
      "predict point 7839\n",
      "predict point 7871\n",
      "predict point 7903\n",
      "predict point 7935\n",
      "predict point 7967\n",
      "predict point 7999\n",
      "predict point 8031\n",
      "predict point 8063\n",
      "predict point 8095\n",
      "predict point 8127\n",
      "predict point 8159\n",
      "predict point 8191\n",
      "predict point 8223\n",
      "predict point 8255\n",
      "predict point 8287\n",
      "predict point 8319\n",
      "predict point 8351\n",
      "predict point 8383\n",
      "predict point 8415\n",
      "predict point 8447\n",
      "predict point 8479\n",
      "predict point 8511\n",
      "predict point 8543\n",
      "predict point 8575\n",
      "predict point 8607\n",
      "predict point 8639\n",
      "predict point 8671\n",
      "predict point 8703\n",
      "predict point 8735\n",
      "predict point 8767\n",
      "predict point 8799\n",
      "predict point 8831\n",
      "predict point 8863\n",
      "predict point 8895\n",
      "predict point 8927\n",
      "predict point 8959\n",
      "predict point 8991\n",
      "predict point 9023\n",
      "predict point 9055\n",
      "predict point 9087\n",
      "predict point 9119\n",
      "predict point 9151\n",
      "predict point 9183\n",
      "predict point 9215\n",
      "predict point 9247\n",
      "predict point 9279\n",
      "predict point 9311\n",
      "predict point 9343\n",
      "predict point 9375\n",
      "predict point 9407\n",
      "predict point 9439\n",
      "predict point 9471\n",
      "predict point 9503\n",
      "predict point 9535\n",
      "predict point 9567\n",
      "predict point 9599\n",
      "predict point 9631\n",
      "predict point 9663\n",
      "predict point 9695\n",
      "predict point 9727\n",
      "predict point 9759\n",
      "predict point 9791\n",
      "predict point 9823\n",
      "predict point 9855\n",
      "predict point 9887\n",
      "predict point 9919\n",
      "predict point 9951\n",
      "predict point 9983\n",
      "predict point 9999\n"
     ]
    }
   ],
   "source": [
    "visualizer.extract_subimage(shape=[100, 100])"
   ]
  },
  {
   "cell_type": "code",
   "execution_count": 7,
   "metadata": {},
   "outputs": [
    {
     "data": {
      "image/png": "[encoded data removed]",
      "text/plain": [
       "<matplotlib.figure.Figure at 0x7fdfc8731d68>"
      ]
     },
     "metadata": {},
     "output_type": "display_data"
    }
   ],
   "source": [
    "visualizer.visualize_subimage()"
   ]
  },
  {
   "cell_type": "code",
   "execution_count": 9,
   "metadata": {},
   "outputs": [
    {
     "data": {
      "text/plain": [
       "array([[0., 0., 0., ..., 0., 0., 0.],\n",
       "       [0., 0., 0., ..., 0., 0., 0.],\n",
       "       [0., 0., 0., ..., 0., 0., 0.],\n",
       "       ...,\n",
       "       [0., 0., 0., ..., 0., 0., 0.],\n",
       "       [0., 0., 0., ..., 0., 0., 0.],\n",
       "       [0., 0., 0., ..., 0., 0., 0.]])"
      ]
     },
     "execution_count": 9,
     "metadata": {},
     "output_type": "execute_result"
    }
   ],
   "source": [
    "visualizer.truth"
   ]
  },
  {
   "cell_type": "code",
   "execution_count": 11,
   "metadata": {
    "scrolled": true
   },
   "outputs": [
    {
     "data": {
      "text/plain": [
       "array([[0., 0., 0., ..., 0., 0., 0.],\n",
       "       [0., 0., 0., ..., 0., 0., 0.],\n",
       "       [0., 0., 0., ..., 0., 0., 0.],\n",
       "       ...,\n",
       "       [0., 0., 0., ..., 0., 0., 0.],\n",
       "       [0., 0., 0., ..., 0., 0., 0.],\n",
       "       [0., 0., 0., ..., 0., 0., 0.]])"
      ]
     },
     "execution_count": 11,
     "metadata": {},
     "output_type": "execute_result"
    }
   ],
   "source": [
    "visualizer.rf.medium_sct"
   ]
  },
  {
   "cell_type": "code",
   "execution_count": 15,
   "metadata": {
    "collapsed": true
   },
   "outputs": [],
   "source": [
    "import matplotlib.pyplot as plt\n",
    "%matplotlib inline"
   ]
  },
  {
   "cell_type": "code",
   "execution_count": 16,
   "metadata": {},
   "outputs": [
    {
     "data": {
      "text/plain": [
       "<matplotlib.image.AxesImage at 0x7fdf3fb464a8>"
      ]
     },
     "execution_count": 16,
     "metadata": {},
     "output_type": "execute_result"
    },
    {
     "data": {
      "image/png": "[encoded data removed]",
      "text/plain": [
       "<matplotlib.figure.Figure at 0x7fdf3fc33b70>"
      ]
     },
     "metadata": {},
     "output_type": "display_data"
    }
   ],
   "source": [
    "plt.imshow(visualizer.rf.medium_sct)"
   ]
  },
  {
   "cell_type": "code",
   "execution_count": null,
   "metadata": {
    "collapsed": true
   },
   "outputs": [],
   "source": []
  }
 ],
 "metadata": {
  "kernelspec": {
   "display_name": "Python 3",
   "language": "python",
   "name": "python3"
  },
  "language_info": {
   "codemirror_mode": {
    "name": "ipython",
    "version": 3
   },
   "file_extension": ".py",
   "mimetype": "text/x-python",
   "name": "python",
   "nbconvert_exporter": "python",
   "pygments_lexer": "ipython3",
   "version": "3.6.3"
  }
 },
 "nbformat": 4,
 "nbformat_minor": 2
}
