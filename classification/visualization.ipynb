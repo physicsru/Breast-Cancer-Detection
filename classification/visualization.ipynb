{
 "cells": [
  {
   "cell_type": "code",
   "execution_count": 1,
   "metadata": {},
   "outputs": [
    {
     "name": "stderr",
     "output_type": "stream",
     "text": [
      "/root/.pyenv/versions/anaconda3-5.0.1/lib/python3.6/site-packages/h5py/__init__.py:34: FutureWarning: Conversion of the second argument of issubdtype from `float` to `np.floating` is deprecated. In future, it will be treated as `np.float64 == np.dtype(float).type`.\n",
      "  from ._conv import register_converters as _register_converters\n"
     ]
    }
   ],
   "source": [
    "import os, sys, glob, time\n",
    "sys.path.append(\"../pyusct/\")\n",
    "from raw_dataset_model import Raw_dataset_clf\n",
    "from raw_dataset_trainer import Raw_dataset_trainer\n",
    "from visualizer import Visualizer"
   ]
  },
  {
   "cell_type": "code",
   "execution_count": 2,
   "metadata": {
    "collapsed": true
   },
   "outputs": [],
   "source": [
    "LOCAL_PATH = \"/mnt/nas/\"\n",
    "MODEL_DIR = os.path.join(LOCAL_PATH, \"PYUSCT_model/\")\n",
    "DATA_DIR = os.path.join(LOCAL_PATH, \"PYUSCT_train/\")\n",
    "scaler_path = os.path.join(MODEL_DIR, \"Scaler/Log_MinMax_RFScaler_ds028.pickle\")\n",
    "AE_weight_path = os.path.join(MODEL_DIR, \"AE/rf_conv_AE_Log_MinMax_ds036.pth\")"
   ]
  },
  {
   "cell_type": "code",
   "execution_count": 3,
   "metadata": {},
   "outputs": [],
   "source": [
    "model_path = os.path.join(MODEL_DIR, \"clf/deep/_lr_0.001_epoch_100_batchsize_32\")"
   ]
  },
  {
   "cell_type": "code",
   "execution_count": 4,
   "metadata": {
    "collapsed": true
   },
   "outputs": [],
   "source": [
    "source = os.path.join(LOCAL_PATH, \"nb_usctsim/wire/trial_001/\")\n",
    "model_params = [os.path.join(model_path, \"ae_raw_data_epoch_20.pth\"),\n",
    "                os.path.join(model_path, \"clf_raw_data_epoch_20.pth\")]"
   ]
  },
  {
   "cell_type": "code",
   "execution_count": 5,
   "metadata": {},
   "outputs": [
    {
     "ename": "RuntimeError",
     "evalue": "Error(s) in loading state_dict for clf_network:\n\tsize mismatch for dense1.weight: copying a param of torch.Size([512, 800]) from checkpoint, where the shape is torch.Size([160, 800]) in current model.\n\tsize mismatch for dense1.bias: copying a param of torch.Size([512]) from checkpoint, where the shape is torch.Size([160]) in current model.\n\tsize mismatch for norm1.weight: copying a param of torch.Size([512]) from checkpoint, where the shape is torch.Size([160]) in current model.\n\tsize mismatch for norm1.bias: copying a param of torch.Size([512]) from checkpoint, where the shape is torch.Size([160]) in current model.\n\tsize mismatch for norm1.running_mean: copying a param of torch.Size([512]) from checkpoint, where the shape is torch.Size([160]) in current model.\n\tsize mismatch for norm1.running_var: copying a param of torch.Size([512]) from checkpoint, where the shape is torch.Size([160]) in current model.\n\tsize mismatch for dense2.weight: copying a param of torch.Size([256, 512]) from checkpoint, where the shape is torch.Size([160, 160]) in current model.\n\tsize mismatch for dense2.bias: copying a param of torch.Size([256]) from checkpoint, where the shape is torch.Size([160]) in current model.\n\tsize mismatch for norm2.weight: copying a param of torch.Size([256]) from checkpoint, where the shape is torch.Size([160]) in current model.\n\tsize mismatch for norm2.bias: copying a param of torch.Size([256]) from checkpoint, where the shape is torch.Size([160]) in current model.\n\tsize mismatch for norm2.running_mean: copying a param of torch.Size([256]) from checkpoint, where the shape is torch.Size([160]) in current model.\n\tsize mismatch for norm2.running_var: copying a param of torch.Size([256]) from checkpoint, where the shape is torch.Size([160]) in current model.\n\tsize mismatch for dense3.weight: copying a param of torch.Size([128, 256]) from checkpoint, where the shape is torch.Size([160, 160]) in current model.\n\tsize mismatch for dense3.bias: copying a param of torch.Size([128]) from checkpoint, where the shape is torch.Size([160]) in current model.\n\tsize mismatch for norm3.weight: copying a param of torch.Size([128]) from checkpoint, where the shape is torch.Size([160]) in current model.\n\tsize mismatch for norm3.bias: copying a param of torch.Size([128]) from checkpoint, where the shape is torch.Size([160]) in current model.\n\tsize mismatch for norm3.running_mean: copying a param of torch.Size([128]) from checkpoint, where the shape is torch.Size([160]) in current model.\n\tsize mismatch for norm3.running_var: copying a param of torch.Size([128]) from checkpoint, where the shape is torch.Size([160]) in current model.\n\tsize mismatch for dense4.weight: copying a param of torch.Size([2, 128]) from checkpoint, where the shape is torch.Size([2, 160]) in current model.",
     "output_type": "error",
     "traceback": [
      "\u001b[0;31m---------------------------------------------------------------------------\u001b[0m",
      "\u001b[0;31mRuntimeError\u001b[0m                              Traceback (most recent call last)",
      "\u001b[0;32m<ipython-input-5-2306d2b01a99>\u001b[0m in \u001b[0;36m<module>\u001b[0;34m()\u001b[0m\n\u001b[0;32m----> 1\u001b[0;31m \u001b[0mvisualizer\u001b[0m \u001b[0;34m=\u001b[0m \u001b[0mVisualizer\u001b[0m\u001b[0;34m(\u001b[0m\u001b[0msource\u001b[0m\u001b[0;34m,\u001b[0m \u001b[0mscaler_path\u001b[0m\u001b[0;34m,\u001b[0m \u001b[0mmodel_params\u001b[0m\u001b[0;34m)\u001b[0m\u001b[0;34m\u001b[0m\u001b[0m\n\u001b[0m",
      "\u001b[0;32m~/notebooks/docker_workspace/pyusct/visualizer.py\u001b[0m in \u001b[0;36m__init__\u001b[0;34m(self, source, scaler_path, model_params, type)\u001b[0m\n\u001b[1;32m     21\u001b[0m \u001b[0;34m\u001b[0m\u001b[0m\n\u001b[1;32m     22\u001b[0m         \u001b[0mself\u001b[0m\u001b[0;34m.\u001b[0m\u001b[0mrf\u001b[0m \u001b[0;34m=\u001b[0m \u001b[0mRFdata\u001b[0m\u001b[0;34m(\u001b[0m\u001b[0msource\u001b[0m\u001b[0;34m)\u001b[0m\u001b[0;34m\u001b[0m\u001b[0m\n\u001b[0;32m---> 23\u001b[0;31m         \u001b[0mself\u001b[0m\u001b[0;34m.\u001b[0m\u001b[0mmodel\u001b[0m \u001b[0;34m=\u001b[0m \u001b[0mRaw_dataset_clf\u001b[0m\u001b[0;34m(\u001b[0m\u001b[0;32mNone\u001b[0m\u001b[0;34m,\u001b[0m \u001b[0mscaler_path\u001b[0m\u001b[0;34m,\u001b[0m \u001b[0mmodel_params\u001b[0m\u001b[0;34m)\u001b[0m\u001b[0;34m\u001b[0m\u001b[0m\n\u001b[0m\u001b[1;32m     24\u001b[0m \u001b[0;34m\u001b[0m\u001b[0m\n\u001b[1;32m     25\u001b[0m         \u001b[0;32mreturn\u001b[0m\u001b[0;34m\u001b[0m\u001b[0m\n",
      "\u001b[0;32m~/notebooks/docker_workspace/pyusct/raw_dataset_model.py\u001b[0m in \u001b[0;36m__init__\u001b[0;34m(self, AE_weight_path, scaler_path, model_params)\u001b[0m\n\u001b[1;32m     22\u001b[0m         \u001b[0;32mif\u001b[0m \u001b[0mmodel_params\u001b[0m\u001b[0;34m:\u001b[0m\u001b[0;34m\u001b[0m\u001b[0m\n\u001b[1;32m     23\u001b[0m             \u001b[0mself\u001b[0m\u001b[0;34m.\u001b[0m\u001b[0mae_network\u001b[0m\u001b[0;34m.\u001b[0m\u001b[0mload_state_dict\u001b[0m\u001b[0;34m(\u001b[0m\u001b[0mtorch\u001b[0m\u001b[0;34m.\u001b[0m\u001b[0mload\u001b[0m\u001b[0;34m(\u001b[0m\u001b[0mmodel_params\u001b[0m\u001b[0;34m[\u001b[0m\u001b[0;36m0\u001b[0m\u001b[0;34m]\u001b[0m\u001b[0;34m)\u001b[0m\u001b[0;34m)\u001b[0m\u001b[0;34m\u001b[0m\u001b[0m\n\u001b[0;32m---> 24\u001b[0;31m             \u001b[0mself\u001b[0m\u001b[0;34m.\u001b[0m\u001b[0mclf_network\u001b[0m\u001b[0;34m.\u001b[0m\u001b[0mload_state_dict\u001b[0m\u001b[0;34m(\u001b[0m\u001b[0mtorch\u001b[0m\u001b[0;34m.\u001b[0m\u001b[0mload\u001b[0m\u001b[0;34m(\u001b[0m\u001b[0mmodel_params\u001b[0m\u001b[0;34m[\u001b[0m\u001b[0;36m1\u001b[0m\u001b[0;34m]\u001b[0m\u001b[0;34m)\u001b[0m\u001b[0;34m)\u001b[0m\u001b[0;34m\u001b[0m\u001b[0m\n\u001b[0m\u001b[1;32m     25\u001b[0m         \u001b[0;32melse\u001b[0m\u001b[0;34m:\u001b[0m\u001b[0;34m\u001b[0m\u001b[0m\n\u001b[1;32m     26\u001b[0m             \u001b[0;31m#self.ae_network.load_state_dict(torch.load(AE_weight_path))\u001b[0m\u001b[0;34m\u001b[0m\u001b[0;34m\u001b[0m\u001b[0m\n",
      "\u001b[0;32m~/.pyenv/versions/anaconda3-5.0.1/lib/python3.6/site-packages/torch/nn/modules/module.py\u001b[0m in \u001b[0;36mload_state_dict\u001b[0;34m(self, state_dict, strict)\u001b[0m\n\u001b[1;32m    717\u001b[0m         \u001b[0;32mif\u001b[0m \u001b[0mlen\u001b[0m\u001b[0;34m(\u001b[0m\u001b[0merror_msgs\u001b[0m\u001b[0;34m)\u001b[0m \u001b[0;34m>\u001b[0m \u001b[0;36m0\u001b[0m\u001b[0;34m:\u001b[0m\u001b[0;34m\u001b[0m\u001b[0m\n\u001b[1;32m    718\u001b[0m             raise RuntimeError('Error(s) in loading state_dict for {}:\\n\\t{}'.format(\n\u001b[0;32m--> 719\u001b[0;31m                                self.__class__.__name__, \"\\n\\t\".join(error_msgs)))\n\u001b[0m\u001b[1;32m    720\u001b[0m \u001b[0;34m\u001b[0m\u001b[0m\n\u001b[1;32m    721\u001b[0m     \u001b[0;32mdef\u001b[0m \u001b[0mparameters\u001b[0m\u001b[0;34m(\u001b[0m\u001b[0mself\u001b[0m\u001b[0;34m)\u001b[0m\u001b[0;34m:\u001b[0m\u001b[0;34m\u001b[0m\u001b[0m\n",
      "\u001b[0;31mRuntimeError\u001b[0m: Error(s) in loading state_dict for clf_network:\n\tsize mismatch for dense1.weight: copying a param of torch.Size([512, 800]) from checkpoint, where the shape is torch.Size([160, 800]) in current model.\n\tsize mismatch for dense1.bias: copying a param of torch.Size([512]) from checkpoint, where the shape is torch.Size([160]) in current model.\n\tsize mismatch for norm1.weight: copying a param of torch.Size([512]) from checkpoint, where the shape is torch.Size([160]) in current model.\n\tsize mismatch for norm1.bias: copying a param of torch.Size([512]) from checkpoint, where the shape is torch.Size([160]) in current model.\n\tsize mismatch for norm1.running_mean: copying a param of torch.Size([512]) from checkpoint, where the shape is torch.Size([160]) in current model.\n\tsize mismatch for norm1.running_var: copying a param of torch.Size([512]) from checkpoint, where the shape is torch.Size([160]) in current model.\n\tsize mismatch for dense2.weight: copying a param of torch.Size([256, 512]) from checkpoint, where the shape is torch.Size([160, 160]) in current model.\n\tsize mismatch for dense2.bias: copying a param of torch.Size([256]) from checkpoint, where the shape is torch.Size([160]) in current model.\n\tsize mismatch for norm2.weight: copying a param of torch.Size([256]) from checkpoint, where the shape is torch.Size([160]) in current model.\n\tsize mismatch for norm2.bias: copying a param of torch.Size([256]) from checkpoint, where the shape is torch.Size([160]) in current model.\n\tsize mismatch for norm2.running_mean: copying a param of torch.Size([256]) from checkpoint, where the shape is torch.Size([160]) in current model.\n\tsize mismatch for norm2.running_var: copying a param of torch.Size([256]) from checkpoint, where the shape is torch.Size([160]) in current model.\n\tsize mismatch for dense3.weight: copying a param of torch.Size([128, 256]) from checkpoint, where the shape is torch.Size([160, 160]) in current model.\n\tsize mismatch for dense3.bias: copying a param of torch.Size([128]) from checkpoint, where the shape is torch.Size([160]) in current model.\n\tsize mismatch for norm3.weight: copying a param of torch.Size([128]) from checkpoint, where the shape is torch.Size([160]) in current model.\n\tsize mismatch for norm3.bias: copying a param of torch.Size([128]) from checkpoint, where the shape is torch.Size([160]) in current model.\n\tsize mismatch for norm3.running_mean: copying a param of torch.Size([128]) from checkpoint, where the shape is torch.Size([160]) in current model.\n\tsize mismatch for norm3.running_var: copying a param of torch.Size([128]) from checkpoint, where the shape is torch.Size([160]) in current model.\n\tsize mismatch for dense4.weight: copying a param of torch.Size([2, 128]) from checkpoint, where the shape is torch.Size([2, 160]) in current model."
     ]
    }
   ],
   "source": [
    "visualizer = Visualizer(source, scaler_path, model_params)"
   ]
  },
  {
   "cell_type": "code",
   "execution_count": null,
   "metadata": {
    "collapsed": true
   },
   "outputs": [],
   "source": [
    "import matplotlib.pyplot as plt\n",
    "%matplotlib inline"
   ]
  },
  {
   "cell_type": "code",
   "execution_count": null,
   "metadata": {
    "scrolled": false
   },
   "outputs": [],
   "source": [
    "fig = plt.figure(figsize=(16,12))\n",
    "plt.imshow(visualizer.rf.medium_sct)"
   ]
  },
  {
   "cell_type": "code",
   "execution_count": null,
   "metadata": {
    "scrolled": true
   },
   "outputs": [],
   "source": [
    "visualizer.extract_subimage(shape=[512, 512])"
   ]
  },
  {
   "cell_type": "code",
   "execution_count": null,
   "metadata": {},
   "outputs": [],
   "source": [
    "visualizer.visualize_prob()"
   ]
  },
  {
   "cell_type": "code",
   "execution_count": null,
   "metadata": {
    "scrolled": true
   },
   "outputs": [],
   "source": [
    "visualizer.visualize_01()"
   ]
  },
  {
   "cell_type": "code",
   "execution_count": null,
   "metadata": {
    "collapsed": true
   },
   "outputs": [],
   "source": []
  }
 ],
 "metadata": {
  "kernelspec": {
   "display_name": "Python 3",
   "language": "python",
   "name": "python3"
  },
  "language_info": {
   "codemirror_mode": {
    "name": "ipython",
    "version": 3
   },
   "file_extension": ".py",
   "mimetype": "text/x-python",
   "name": "python",
   "nbconvert_exporter": "python",
   "pygments_lexer": "ipython3",
   "version": "3.6.3"
  }
 },
 "nbformat": 4,
 "nbformat_minor": 2
}
