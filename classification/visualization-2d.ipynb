{
 "cells": [
  {
   "cell_type": "code",
   "execution_count": null,
   "metadata": {},
   "outputs": [],
   "source": [
    "import os, sys, glob, time\n",
    "sys.path.append(\"../pyusct/\")\n",
    "from model import Conv_2d\n",
    "from visualizer import Visualizer\n",
    "from rfdata import RFdata"
   ]
  },
  {
   "cell_type": "code",
   "execution_count": null,
   "metadata": {},
   "outputs": [],
   "source": [
    "import os, sys, glob, time\n",
    "sys.path.append(\"../pyusct/\")\n",
    "from model import Conv_2d\n",
    "from visualizer import Visualizer"
   ]
  },
  {
   "cell_type": "code",
   "execution_count": null,
   "metadata": {
    "collapsed": true
   },
   "outputs": [],
   "source": [
    "LOCAL_PATH = \"/mnt/nas/\"\n",
    "MODEL_DIR = os.path.join(LOCAL_PATH, \"PYUSCT_model/\")\n",
    "DATA_DIR = os.path.join(LOCAL_PATH, \"PYUSCT_train/\")\n",
    "scaler_path = os.path.join(MODEL_DIR, \"Scaler/Log_MinMax_RFScaler_ds028.pickle\")\n",
    "AE_weight_path = os.path.join(MODEL_DIR, \"AE/rf_conv_AE_Log_MinMax_ds036.pth\")"
   ]
  },
  {
   "cell_type": "code",
   "execution_count": null,
   "metadata": {
    "collapsed": true
   },
   "outputs": [],
   "source": [
    "model_path = os.path.join(MODEL_DIR, \"clf/deep/_lr_0.001_epoch_100_batchsize_32_baseline\")"
   ]
  },
  {
   "cell_type": "code",
   "execution_count": null,
   "metadata": {
    "collapsed": true
   },
   "outputs": [],
   "source": [
    "source_path = os.path.join(LOCAL_PATH, \"nb_usctsim/wire/trial_001/\")\n",
    "model_params = [os.path.join(model_path, \"ae_raw_data_epoch_20.pth\"),\n",
    "                os.path.join(model_path, \"clf_raw_data_epoch_20.pth\")]"
   ]
  },
  {
   "cell_type": "code",
   "execution_count": null,
   "metadata": {},
   "outputs": [],
   "source": [
    "model = Conv_2d(None, scaler_path, model_params)\n",
    "source = RFdata(source_path)\n",
    "visualizer = Visualizer(source, model=model, thread=1)"
   ]
  },
  {
   "cell_type": "code",
   "execution_count": null,
   "metadata": {
    "collapsed": true
   },
   "outputs": [],
   "source": [
    "import matplotlib.pyplot as plt\n",
    "%matplotlib inline"
   ]
  },
  {
   "cell_type": "code",
   "execution_count": null,
   "metadata": {
    "collapsed": true,
    "scrolled": false
   },
   "outputs": [],
   "source": [
    "fig = plt.figure(figsize=(16,12))\n",
    "plt.imshow(visualizer.rf.medium_sct)"
   ]
  },
  {
   "cell_type": "code",
   "execution_count": null,
   "metadata": {
    "collapsed": true,
    "scrolled": true
   },
   "outputs": [],
   "source": [
    "visualizer.extract_subimage(shape=[512, 512])"
   ]
  },
  {
   "cell_type": "code",
   "execution_count": null,
   "metadata": {
    "collapsed": true
   },
   "outputs": [],
   "source": [
    "visualizer.visualize_prob()"
   ]
  },
  {
   "cell_type": "code",
   "execution_count": null,
   "metadata": {
    "collapsed": true,
    "scrolled": true
   },
   "outputs": [],
   "source": [
    "visualizer.visualize_01()"
   ]
  },
  {
   "cell_type": "code",
   "execution_count": null,
   "metadata": {
    "collapsed": true
   },
   "outputs": [],
   "source": []
  }
 ],
 "metadata": {
  "kernelspec": {
   "display_name": "Python 3",
   "language": "python",
   "name": "python3"
  },
  "language_info": {
   "codemirror_mode": {
    "name": "ipython",
    "version": 3
   },
   "file_extension": ".py",
   "mimetype": "text/x-python",
   "name": "python",
   "nbconvert_exporter": "python",
   "pygments_lexer": "ipython3",
   "version": "3.6.3"
  }
 },
 "nbformat": 4,
 "nbformat_minor": 2
}
