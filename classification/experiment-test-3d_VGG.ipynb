{
 "cells": [
  {
   "cell_type": "code",
   "execution_count": 1,
   "metadata": {
    "collapsed": true
   },
   "outputs": [],
   "source": [
    "import os, sys, glob, time\n",
    "sys.path.append(\"../pyusct/\")\n",
    "from raw_dataset_model_3d_VGG import Raw_dataset_clf\n",
    "from raw_dataset_trainer_3d_VGG import Raw_dataset_trainer"
   ]
  },
  {
   "cell_type": "code",
   "execution_count": 2,
   "metadata": {
    "collapsed": true
   },
   "outputs": [],
   "source": [
    "LOCAL_PATH = \"/mnt/nas/\"\n",
    "MODEL_DIR = os.path.join(LOCAL_PATH, \"PYUSCT_model/\")\n",
    "DATA_DIR = os.path.join(LOCAL_PATH, \"PYUSCT_train/\")\n",
    "dataset_dir = os.path.join(DATA_DIR, \"dataset036/\")\n",
    "model_output_path = os.path.join(MODEL_DIR, \"clf/deep/\")\n",
    "scaler_path = os.path.join(MODEL_DIR, \"Scaler/Log_MinMax_RFScaler_ds028.pickle\")\n",
    "AE_weight_path = os.path.join(MODEL_DIR, \"AE/rf_conv_AE_Log_MinMax_ds036.pth\")"
   ]
  },
  {
   "cell_type": "code",
   "execution_count": 3,
   "metadata": {},
   "outputs": [],
   "source": [
    "trainer = Raw_dataset_trainer(dataset_dir, AE_weight_path, scaler_path, model_output_path)"
   ]
  },
  {
   "cell_type": "code",
   "execution_count": 4,
   "metadata": {
    "collapsed": true
   },
   "outputs": [],
   "source": [
    "model_path = os.path.join(MODEL_DIR, \"/mnt/nas/PYUSCT_model/clf/deep/dataset036_VGG_3d_lr_0.001_epoch_100_batchsize_8_l2_alpha_0.001/\")"
   ]
  },
  {
   "cell_type": "code",
   "execution_count": 5,
   "metadata": {},
   "outputs": [
    {
     "name": "stdout",
     "output_type": "stream",
     "text": [
      "/mnt/nas/PYUSCT_model/clf/deep/\n"
     ]
    }
   ],
   "source": [
    "print(model_output_path)\n",
    "model_params = os.path.join(model_path, \"conv3d_raw_data_epoch_79.pth\")"
   ]
  },
  {
   "cell_type": "code",
   "execution_count": 6,
   "metadata": {
    "scrolled": true
   },
   "outputs": [
    {
     "name": "stdout",
     "output_type": "stream",
     "text": [
      "/mnt/nas/PYUSCT_model/clf/deep/dataset036_VGG_3d_lr_0.001_epoch_100_batchsize_8_l2_alpha_0.001/conv3d_raw_data_epoch_79.pth\n",
      "accuracy: nan\n",
      "f1_score: nan\n",
      "precision: nan\n",
      "recall nan\n",
      "loss nan\n"
     ]
    },
    {
     "name": "stderr",
     "output_type": "stream",
     "text": [
      "/root/.pyenv/versions/anaconda3-5.0.1/lib/python3.6/site-packages/numpy/core/fromnumeric.py:2957: RuntimeWarning: Mean of empty slice.\n",
      "  out=out, **kwargs)\n",
      "/root/.pyenv/versions/anaconda3-5.0.1/lib/python3.6/site-packages/numpy/core/_methods.py:80: RuntimeWarning: invalid value encountered in double_scalars\n",
      "  ret = ret.dtype.type(ret / rcount)\n"
     ]
    }
   ],
   "source": [
    "print(model_params)\n",
    "trainer.test(model_params)"
   ]
  },
  {
   "cell_type": "code",
   "execution_count": 7,
   "metadata": {},
   "outputs": [
    {
     "ename": "SyntaxError",
     "evalue": "invalid syntax (<ipython-input-7-d01f545797a6>, line 5)",
     "output_type": "error",
     "traceback": [
      "\u001b[0;36m  File \u001b[0;32m\"<ipython-input-7-d01f545797a6>\"\u001b[0;36m, line \u001b[0;32m5\u001b[0m\n\u001b[0;31m    recall 0.8691\u001b[0m\n\u001b[0m                ^\u001b[0m\n\u001b[0;31mSyntaxError\u001b[0m\u001b[0;31m:\u001b[0m invalid syntax\n"
     ]
    }
   ],
   "source": [
    "epoch = 30\n",
    "accuracy: 0.8685\n",
    "f1_score: 0.8676\n",
    "precision: 0.876\n",
    "recall 0.8691\n",
    "loss 0.3282"
   ]
  },
  {
   "cell_type": "raw",
   "metadata": {
    "collapsed": true
   },
   "source": [
    "epoches = 40      \n",
    "accuracy: 0.8622\n",
    "f1_score: 0.8663\n",
    "precision: 0.8379\n",
    "recall 0.9076\n",
    "loss 0.3462"
   ]
  },
  {
   "cell_type": "raw",
   "metadata": {},
   "source": [
    "epoches = 90\n",
    "accuracy: 0.8524\n",
    "f1_score: 0.8551\n",
    "precision: 0.8382\n",
    "recall 0.8817\n",
    "loss 0.4034"
   ]
  },
  {
   "cell_type": "raw",
   "metadata": {},
   "source": [
    "epoches = 100\n",
    "accuracy: 0.8481\n",
    "f1_score: 0.8481\n",
    "precision: 0.8452\n",
    "recall 0.8617\n",
    "loss 0.4393"
   ]
  },
  {
   "cell_type": "raw",
   "metadata": {},
   "source": [
    "epochs = 20 \n",
    "accuracy: 0.8693\n",
    "f1_score: 0.8715\n",
    "precision: 0.8536\n",
    "recall 0.9007\n",
    "loss 0.3223"
   ]
  }
 ],
 "metadata": {
  "kernelspec": {
   "display_name": "Python 3",
   "language": "python",
   "name": "python3"
  },
  "language_info": {
   "codemirror_mode": {
    "name": "ipython",
    "version": 3
   },
   "file_extension": ".py",
   "mimetype": "text/x-python",
   "name": "python",
   "nbconvert_exporter": "python",
   "pygments_lexer": "ipython3",
   "version": "3.6.3"
  }
 },
 "nbformat": 4,
 "nbformat_minor": 2
}
