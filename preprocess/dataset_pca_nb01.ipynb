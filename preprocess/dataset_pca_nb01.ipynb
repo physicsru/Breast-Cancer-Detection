{
 "cells": [
  {
   "cell_type": "code",
   "execution_count": 1,
   "metadata": {
    "collapsed": true
   },
   "outputs": [],
   "source": [
    "import os, json, glob, sys, time\n",
    "import numpy as np\n",
    "import matplotlib.pyplot as plt\n",
    "\n",
    "sys.path.append(\"./pyusct/\")\n",
    "from dataCompressor import Compressor\n",
    "\n",
    "%matplotlib inline\n",
    "%load_ext autoreload\n",
    "%autoreload 2"
   ]
  },
  {
   "cell_type": "code",
   "execution_count": 2,
   "metadata": {
    "collapsed": true
   },
   "outputs": [],
   "source": [
    "# OUTPUT_PATH = \"/media/yuhui/dea78678-112b-4f0f-acbf-4e9d1be35e35/nas/\"\n",
    "MOUNT_PATH = \"/run/user/1000/gvfs/smb-share:server=azlab-fs01,share=東研究室/個人work/富井/\"\n",
    "p = {\n",
    "    \"input\": {\n",
    "        \"sim_path\" : os.path.join(MOUNT_PATH, \"nb_usctsim/sim_015/\"), \n",
    "        \"model_path\" : os.path.join(MOUNT_PATH, \"PYUSCT_model/AE/rf_conv_autoencoder.pth\"),\n",
    "        \"size\" : [512, 512],\n",
    "        \"offset\" : [256, 256],\n",
    "        \"interval\": [1,1,1] # Transducer, receiver, time\n",
    "    },\n",
    "    \n",
    "    \"output\" : {\n",
    "        \"path\" : os.path.join(MOUNT_PATH, \"PYUSCT_train/dataset032/\"),\n",
    "    },\n",
    "    \"comment\": \"AEed 512*512 for T16 from weak cycle sample\",\n",
    "}"
   ]
  },
  {
   "cell_type": "code",
   "execution_count": 3,
   "metadata": {
    "collapsed": true
   },
   "outputs": [],
   "source": [
    "if not os.path.exists(p[\"output\"][\"path\"]): \n",
    "    os.makedirs(p[\"output\"][\"path\"])\n",
    "with open(os.path.join(p[\"output\"][\"path\"],\"param.json\"), 'w') as outf:\n",
    "    json.dump(p, outf, indent=4)"
   ]
  },
  {
   "cell_type": "code",
   "execution_count": 4,
   "metadata": {
    "collapsed": true
   },
   "outputs": [],
   "source": [
    "compressor = Compressor(p[\"input\"][\"model_path\"], model_kind=\"AE\")"
   ]
  },
  {
   "cell_type": "code",
   "execution_count": 10,
   "metadata": {},
   "outputs": [
    {
     "name": "stdout",
     "output_type": "stream",
     "text": [
      "Tue Jul  3 18:45:22 2018 Process of trial_001 start.\n",
      "/run/user/1000/gvfs/smb-share:server=azlab-fs01,share=東研究室/個人work/富井/nb_usctsim/sim_015/trial_001\n",
      "/run/user/1000/gvfs/smb-share:server=azlab-fs01,share=東研究室/個人work/富井/PYUSCT_train/dataset032/trial_001/input/\n",
      "/run/user/1000/gvfs/smb-share:server=azlab-fs01,share=東研究室/個人work/富井/PYUSCT_model/AE/rf_conv_autoencoder.pth\n",
      "raw data loaded.\n",
      "AE model loaded.\n",
      "processing\n",
      "10000 points completes Tue Jul  3 18:59:17 2018\n",
      "20000 points completes Tue Jul  3 19:12:20 2018\n",
      "30000 points completes Tue Jul  3 19:25:33 2018\n",
      "40000 points completes Tue Jul  3 19:38:52 2018\n",
      "50000 points completes Tue Jul  3 19:52:03 2018\n",
      "60000 points completes Tue Jul  3 20:05:25 2018\n",
      "70000 points completes Tue Jul  3 20:19:00 2018\n",
      "80000 points completes Tue Jul  3 20:32:21 2018\n",
      "90000 points completes Tue Jul  3 20:45:39 2018\n",
      "100000 points completes Tue Jul  3 20:58:52 2018\n",
      "110000 points completes Tue Jul  3 21:11:58 2018\n",
      "120000 points completes Tue Jul  3 21:25:17 2018\n",
      "130000 points completes Tue Jul  3 21:38:27 2018\n",
      "140000 points completes Tue Jul  3 21:52:06 2018\n",
      "150000 points completes Tue Jul  3 22:05:24 2018\n",
      "160000 points completes Tue Jul  3 22:18:28 2018\n",
      "170000 points completes Tue Jul  3 22:31:43 2018\n",
      "180000 points completes Tue Jul  3 22:44:54 2018\n",
      "190000 points completes Tue Jul  3 22:58:04 2018\n",
      "200000 points completes Tue Jul  3 23:11:31 2018\n",
      "210000 points completes Tue Jul  3 23:24:41 2018\n",
      "220000 points completes Tue Jul  3 23:37:45 2018\n",
      "230000 points completes Tue Jul  3 23:51:06 2018\n",
      "240000 points completes Wed Jul  4 00:04:24 2018\n",
      "250000 points completes Wed Jul  4 00:17:34 2018\n",
      "260000 points completes Wed Jul  4 00:30:46 2018\n",
      "Wed Jul  4 00:34:02 2018: completed.\n"
     ]
    }
   ],
   "source": [
    "compressor.genDatasetFromSim(p[\"input\"][\"sim_path\"], \n",
    "                             p[\"input\"][\"size\"], \n",
    "                             p[\"input\"][\"offset\"], \n",
    "                             p[\"input\"][\"interval\"],\n",
    "                             p[\"output\"][\"path\"],\n",
    "                             fromTrial=1,\n",
    "                             toTrial=1)"
   ]
  },
  {
   "cell_type": "code",
   "execution_count": null,
   "metadata": {
    "collapsed": true
   },
   "outputs": [],
   "source": []
  }
 ],
 "metadata": {
  "kernelspec": {
   "display_name": "Python 3",
   "language": "python",
   "name": "python3"
  },
  "language_info": {
   "codemirror_mode": {
    "name": "ipython",
    "version": 3
   },
   "file_extension": ".py",
   "mimetype": "text/x-python",
   "name": "python",
   "nbconvert_exporter": "python",
   "pygments_lexer": "ipython3",
   "version": "3.6.3"
  }
 },
 "nbformat": 4,
 "nbformat_minor": 2
}
