{
 "cells": [
  {
   "cell_type": "code",
   "execution_count": 4,
   "metadata": {},
   "outputs": [],
   "source": [
    "import os, json, glob, sys, time\n",
    "import numpy as np\n",
    "import matplotlib.pyplot as plt\n",
    "from scipy import signal\n",
    "import scipy.ndimage\n",
    "from scipy import stats\n",
    "\n",
    "sys.path.append('./pyusct/')\n",
    "from rfdata import RFdata\n",
    "\n",
    "%matplotlib inline"
   ]
  },
  {
   "cell_type": "code",
   "execution_count": 5,
   "metadata": {
    "collapsed": true
   },
   "outputs": [],
   "source": [
    "MOUNT_PATH = \"/run/user/1000/gvfs/smb-share:server=azlab-fs01.local,share=東研究室/個人work/富井/\""
   ]
  },
  {
   "cell_type": "code",
   "execution_count": 6,
   "metadata": {
    "collapsed": true
   },
   "outputs": [],
   "source": [
    "MODEL_PATH = os.path.join(MOUNT_PATH, \"PYUSCT_model/PCA/\")\n",
    "DATA_PATH = os.path.join(MOUNT_PATH, \"PYUSCT_train/\")"
   ]
  },
  {
   "cell_type": "code",
   "execution_count": 7,
   "metadata": {},
   "outputs": [
    {
     "name": "stdout",
     "output_type": "stream",
     "text": [
      "\u001b[0m\u001b[01;32mPCA_model_full.pickle\u001b[0m*\r\n",
      "\u001b[01;32mPCA_model_reduced_t100.pickle\u001b[0m*\r\n",
      "\u001b[01;32mPCA_model_reduced_t100_r128.pickle\u001b[0m*\r\n",
      "\u001b[01;32mPCA_model_reduced_t100_r64.pickle\u001b[0m*\r\n",
      "\u001b[01;32mPCA_model_reduced_T4_t100_r64.pickle\u001b[0m*\r\n",
      "\u001b[01;32mPCA_model_reduced_T8_t100_r64.pickle\u001b[0m*\r\n",
      "\u001b[01;32mPCA_model_T16.pickle\u001b[0m*\r\n",
      "\u001b[01;32mPCA_model_T16_random_sample_strong.pickle\u001b[0m*\r\n",
      "\u001b[01;32mPCA_model_T16_random_sample_weak.pickle\u001b[0m*\r\n",
      "\u001b[01;32mPCA_model_T32.pickle\u001b[0m*\r\n"
     ]
    }
   ],
   "source": [
    "%ls $MODEL_PATH"
   ]
  },
  {
   "cell_type": "code",
   "execution_count": 8,
   "metadata": {
    "collapsed": true
   },
   "outputs": [],
   "source": [
    "from sklearn.decomposition import PCA\n",
    "from sklearn.metrics import explained_variance_score\n",
    "from sklearn.metrics import mean_absolute_error\n",
    "from sklearn.metrics import median_absolute_error\n",
    "from sklearn.metrics import r2_score\n",
    "import pickle"
   ]
  },
  {
   "cell_type": "markdown",
   "metadata": {},
   "source": [
    "### Load data"
   ]
  },
  {
   "cell_type": "code",
   "execution_count": 9,
   "metadata": {
    "collapsed": true
   },
   "outputs": [],
   "source": [
    "# Strong dataset019\n",
    "# Weak   dataset026\n",
    "strong_dataset = os.path.join(DATA_PATH, \"dataset019/\")\n",
    "weak_dataset = os.path.join(DATA_PATH, \"dataset026/\")"
   ]
  },
  {
   "cell_type": "code",
   "execution_count": 13,
   "metadata": {},
   "outputs": [],
   "source": [
    "def evaluate(pca, dataset_path, test_size=10):\n",
    "    \n",
    "    data_list = glob.glob(os.path.join(dataset_path, \"input/*.npy\"))\n",
    "    data_list.sort()\n",
    "    \n",
    "    size = test_size\n",
    "    A = []\n",
    "    for fname in np.random.choice(data_list, size):\n",
    "        inf_from_every_file = np.load(fname)\n",
    "        A.append(inf_from_every_file)\n",
    "    A = np.concatenate(A)\n",
    "    \n",
    "    B = A[:size].reshape(size, -1)\n",
    "    Bt = pca.transform(B)\n",
    "    Btb = pca.inverse_transform(Bt)\n",
    "    diff = np.abs(B - Btb)\n",
    "    \n",
    "    print(B[0,:5])\n",
    "    print(Btb[0,:5])\n",
    "    print(diff[0,:5])\n",
    "    print(diff.max(), diff.min(), diff.mean())\n",
    "    # print(\"KL = {}\".format(scipy.stats.entropy(B, Btb)))\n",
    "    # print(\"W distance = {}\".format(scipy.stats.wasserstein_distance(B, Btb)))\n",
    "    # evs = explained_variance_score(B, Btb, multioutput='raw_values')\n",
    "    # r2 = r2_score(B, Btb, multioutput='raw_values')\n",
    "    # MAE =  mean_absolute_error(B, Btb, multioutput='raw_values')\n",
    "    # percent of MAE\n",
    "    return B, Btb, np.divide(diff, B)"
   ]
  },
  {
   "cell_type": "markdown",
   "metadata": {},
   "source": [
    "### Original model"
   ]
  },
  {
   "cell_type": "code",
   "execution_count": 11,
   "metadata": {},
   "outputs": [
    {
     "name": "stderr",
     "output_type": "stream",
     "text": [
      "/home/yuhui/.pyenv/versions/anaconda3-4.3.1/lib/python3.6/site-packages/sklearn/base.py:312: UserWarning: Trying to unpickle estimator PCA from version 0.18.1 when using version 0.19.0. This might lead to breaking code or invalid results. Use at your own risk.\n",
      "  UserWarning)\n"
     ]
    }
   ],
   "source": [
    "pca = None\n",
    "with open(os.path.join(MODEL_PATH, \"PCA_model_T16.pickle\"), 'rb') as handle:\n",
    "    pca = pickle.load(handle)"
   ]
  },
  {
   "cell_type": "markdown",
   "metadata": {},
   "source": [
    "#### score strong dataset by original model"
   ]
  },
  {
   "cell_type": "code",
   "execution_count": 14,
   "metadata": {
    "scrolled": true
   },
   "outputs": [
    {
     "name": "stdout",
     "output_type": "stream",
     "text": [
      "[ 0.00063126  0.00062656  0.00062049  0.00061383  0.00060579]\n",
      "[ 0.00089858  0.00095239  0.00099951  0.00104074  0.00107414]\n",
      "[ 0.00026732  0.00032583  0.00037902  0.0004269   0.00046835]\n",
      "0.165800534536 1.00798674312e-10 0.00200926300059\n"
     ]
    }
   ],
   "source": [
    "B_so, Btb_so, res_so = evaluate(pca, strong_dataset)"
   ]
  },
  {
   "cell_type": "code",
   "execution_count": 101,
   "metadata": {},
   "outputs": [],
   "source": [
    "res_so = res_so.mean(axis=0)"
   ]
  },
  {
   "cell_type": "code",
   "execution_count": 102,
   "metadata": {},
   "outputs": [
    {
     "data": {
      "text/plain": [
       "DescribeResult(nobs=819200, minmax=(0.14528642254161203, 2226.7567281134752), mean=1.8261695879970747, variance=65.913868089289437, skewness=38.27536744976831, kurtosis=7122.761068592471)"
      ]
     },
     "execution_count": 102,
     "metadata": {},
     "output_type": "execute_result"
    }
   ],
   "source": [
    "stats.describe(res_so)"
   ]
  },
  {
   "cell_type": "code",
   "execution_count": 103,
   "metadata": {},
   "outputs": [
    {
     "data": {
      "image/png": "[encoded data removed]",
      "text/plain": [
       "<matplotlib.figure.Figure at 0x7f08d0cc74e0>"
      ]
     },
     "metadata": {},
     "output_type": "display_data"
    }
   ],
   "source": [
    "plt.hist(res_so, bins=[0.1*i for i in range(1000)])\n",
    "plt.ylim(0, 10000)\n",
    "plt.show()"
   ]
  },
  {
   "cell_type": "markdown",
   "metadata": {},
   "source": [
    "#### score weak dataset by original model "
   ]
  },
  {
   "cell_type": "code",
   "execution_count": null,
   "metadata": {
    "scrolled": false
   },
   "outputs": [],
   "source": [
    "res_wo = evaluate(pca, weak_dataset)"
   ]
  },
  {
   "cell_type": "code",
   "execution_count": 105,
   "metadata": {
    "collapsed": true
   },
   "outputs": [],
   "source": [
    "res_wo = res_wo.mean(axis=0)"
   ]
  },
  {
   "cell_type": "code",
   "execution_count": 107,
   "metadata": {},
   "outputs": [
    {
     "data": {
      "text/plain": [
       "DescribeResult(nobs=819200, minmax=(0.13257538343911179, 947.5160106798379), mean=1.5215747860522517, variance=5.9743261428547294, skewness=117.4111199412671, kurtosis=38874.38924406667)"
      ]
     },
     "execution_count": 107,
     "metadata": {},
     "output_type": "execute_result"
    }
   ],
   "source": [
    "stats.describe(res_wo)"
   ]
  },
  {
   "cell_type": "code",
   "execution_count": 106,
   "metadata": {},
   "outputs": [
    {
     "data": {
      "image/png": "[encoded data removed]",
      "text/plain": [
       "<matplotlib.figure.Figure at 0x7f0893b94c88>"
      ]
     },
     "metadata": {},
     "output_type": "display_data"
    }
   ],
   "source": [
    "plt.hist(res_wo, bins=[0.1*i for i in range(1000)])\n",
    "plt.ylim(0, 10000)\n",
    "plt.show()"
   ]
  },
  {
   "cell_type": "markdown",
   "metadata": {},
   "source": [
    "### Random-strong model"
   ]
  },
  {
   "cell_type": "code",
   "execution_count": null,
   "metadata": {},
   "outputs": [],
   "source": [
    "pca = None\n",
    "with open(os.path.join(MODEL_PATH, \"PCA_model_T16_random_sample_strong.pickle\"), 'rb') as handle:\n",
    "    pca = pickle.load(handle)"
   ]
  },
  {
   "cell_type": "markdown",
   "metadata": {},
   "source": [
    "#### score strong dataset by random-strong model "
   ]
  },
  {
   "cell_type": "code",
   "execution_count": null,
   "metadata": {
    "collapsed": true
   },
   "outputs": [],
   "source": [
    "res_ss = evaluate(pca, strong_dataset)"
   ]
  },
  {
   "cell_type": "markdown",
   "metadata": {},
   "source": [
    "#### score weak dataset by random-strong model "
   ]
  },
  {
   "cell_type": "code",
   "execution_count": null,
   "metadata": {
    "collapsed": true
   },
   "outputs": [],
   "source": [
    "res_ws = evaluate(pca, weak_dataset)"
   ]
  },
  {
   "cell_type": "markdown",
   "metadata": {},
   "source": [
    "### Random-weak model"
   ]
  },
  {
   "cell_type": "code",
   "execution_count": 69,
   "metadata": {},
   "outputs": [
    {
     "name": "stderr",
     "output_type": "stream",
     "text": [
      "/home/yuhui/.pyenv/versions/anaconda3-4.3.1/lib/python3.6/site-packages/sklearn/base.py:312: UserWarning: Trying to unpickle estimator PCA from version 0.18.1 when using version 0.19.0. This might lead to breaking code or invalid results. Use at your own risk.\n",
      "  UserWarning)\n"
     ]
    }
   ],
   "source": [
    "pca = None\n",
    "with open(os.path.join(MODEL_PATH, \"PCA_model_T16_random_sample_weak.pickle\"), 'rb') as handle:\n",
    "    pca = pickle.load(handle)"
   ]
  },
  {
   "cell_type": "markdown",
   "metadata": {},
   "source": [
    "#### score strong dataset by random-weak model "
   ]
  },
  {
   "cell_type": "code",
   "execution_count": null,
   "metadata": {
    "collapsed": true
   },
   "outputs": [],
   "source": [
    "res_sw = evaluate(pca, strong_dataset)"
   ]
  },
  {
   "cell_type": "markdown",
   "metadata": {},
   "source": [
    "#### score weak dataset by random-weak model "
   ]
  },
  {
   "cell_type": "code",
   "execution_count": null,
   "metadata": {
    "collapsed": true
   },
   "outputs": [],
   "source": [
    "res_ww = evaluate(pca, weak_dataset)"
   ]
  }
 ],
 "metadata": {
  "kernelspec": {
   "display_name": "Python 3",
   "language": "python",
   "name": "python3"
  },
  "language_info": {
   "codemirror_mode": {
    "name": "ipython",
    "version": 3
   },
   "file_extension": ".py",
   "mimetype": "text/x-python",
   "name": "python",
   "nbconvert_exporter": "python",
   "pygments_lexer": "ipython3",
   "version": "3.6.3"
  }
 },
 "nbformat": 4,
 "nbformat_minor": 2
}
