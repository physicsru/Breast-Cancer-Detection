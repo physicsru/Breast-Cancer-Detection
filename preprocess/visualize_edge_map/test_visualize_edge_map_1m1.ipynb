{
 "cells": [
  {
   "cell_type": "markdown",
   "metadata": {},
   "source": [
    "###  Setting"
   ]
  },
  {
   "cell_type": "code",
   "execution_count": 1,
   "metadata": {
    "collapsed": true
   },
   "outputs": [],
   "source": [
    "MOUNT_PATH = \"/run/user/1000/gvfs/smb-share:server=azlab-fs01,share=東研究室/個人work/富井/\""
   ]
  },
  {
   "cell_type": "code",
   "execution_count": 2,
   "metadata": {
    "collapsed": true
   },
   "outputs": [],
   "source": [
    "MODEL_PATH = MOUNT_PATH + \"PYUSCT_train/dataset008/ml_model/\"\n",
    "model_name = \"clf_GPC_rbf_iso\""
   ]
  },
  {
   "cell_type": "code",
   "execution_count": 3,
   "metadata": {},
   "outputs": [
    {
     "name": "stdout",
     "output_type": "stream",
     "text": [
      "\u001b[0m\u001b[01;32mclf_GPC_rbf_iso.pkl\u001b[0m*              \u001b[01;32mPCA_model_reduced_t100_r128.pickle\u001b[0m*\r\n",
      "\u001b[01;32mclf_GPC_rbf_iso_t100_r128.pkl\u001b[0m*    \u001b[01;32mPCA_model_reduced_t100_r64.pickle\u001b[0m*\r\n",
      "\u001b[01;32mclf_GPC_rbf_iso_t100_r64.pkl\u001b[0m*     \u001b[01;32mPCA_model_reduced_T4_t100_r64.pickle\u001b[0m*\r\n",
      "\u001b[01;32mclf_GPC_rbf_iso_T4_t100_r64.pkl\u001b[0m*  \u001b[01;32mPCA_model_reduced_T8_t100_r64.pickle\u001b[0m*\r\n",
      "\u001b[01;32mclf_GPC_rbf_iso_T8_t100_r64.pkl\u001b[0m*  \u001b[01;32mPCA_model_reduced_time100.pickle\u001b[0m*\r\n",
      "\u001b[01;32mclf_GPC_rbf_iso_time100.pkl\u001b[0m*\r\n"
     ]
    }
   ],
   "source": [
    "%ls $MODEL_PATH"
   ]
  },
  {
   "cell_type": "markdown",
   "metadata": {},
   "source": [
    "### Load model"
   ]
  },
  {
   "cell_type": "code",
   "execution_count": null,
   "metadata": {
    "collapsed": true
   },
   "outputs": [],
   "source": [
    "model_version = \"_time100\""
   ]
  },
  {
   "cell_type": "code",
   "execution_count": null,
   "metadata": {
    "collapsed": true
   },
   "outputs": [],
   "source": [
    "from sklearn.externals import joblib"
   ]
  },
  {
   "cell_type": "code",
   "execution_count": null,
   "metadata": {
    "collapsed": true
   },
   "outputs": [],
   "source": [
    "model_clf= joblib.load(MODEL_PATH + model_name + \".pkl\")"
   ]
  },
  {
   "cell_type": "code",
   "execution_count": null,
   "metadata": {
    "collapsed": true
   },
   "outputs": [],
   "source": [
    "from sklearn.gaussian_process import GaussianProcessClassifier\n",
    "from sklearn.gaussian_process.kernels import RBF"
   ]
  },
  {
   "cell_type": "code",
   "execution_count": null,
   "metadata": {
    "collapsed": true,
    "scrolled": true
   },
   "outputs": [],
   "source": [
    "model_clf"
   ]
  },
  {
   "cell_type": "markdown",
   "metadata": {},
   "source": [
    "### Load data"
   ]
  },
  {
   "cell_type": "code",
   "execution_count": null,
   "metadata": {
    "collapsed": true
   },
   "outputs": [],
   "source": [
    "import numpy as np\n",
    "from os import listdir\n",
    "from os.path import isfile, join"
   ]
  },
  {
   "cell_type": "code",
   "execution_count": null,
   "metadata": {
    "collapsed": true
   },
   "outputs": [],
   "source": [
    "files = [f for f in listdir(DATA_PATH) if isfile(join(DATA_PATH, f))]\n",
    "files.sort()"
   ]
  },
  {
   "cell_type": "code",
   "execution_count": null,
   "metadata": {
    "collapsed": true
   },
   "outputs": [],
   "source": [
    "join(DATA_PATH, files[0])"
   ]
  },
  {
   "cell_type": "code",
   "execution_count": null,
   "metadata": {
    "collapsed": true
   },
   "outputs": [],
   "source": [
    "import time"
   ]
  },
  {
   "cell_type": "code",
   "execution_count": null,
   "metadata": {
    "collapsed": true
   },
   "outputs": [],
   "source": [
    "time.ctime()"
   ]
  },
  {
   "cell_type": "code",
   "execution_count": null,
   "metadata": {
    "collapsed": true
   },
   "outputs": [],
   "source": [
    "batch = 1024 * 16\n",
    "count = 0\n",
    "data = np.zeros(1024*1024)\n",
    "data_proba = np.zeros((1024*1024,2))\n",
    "for f in files:\n",
    "    print(\"{} : turn{} start.\".format(time.ctime(), count))\n",
    "    tmp = np.load(join(DATA_PATH, f))\n",
    "    data[count*batch:(count+1)*batch] = model_clf.predict(tmp)\n",
    "    data_proba[count*batch:(count+1)*batch] = model_clf.predict_proba(tmp)\n",
    "    print(\"{} : turn{} finished.\".format(time.ctime(), count))\n",
    "    print()\n",
    "    count += 1\n",
    "    "
   ]
  },
  {
   "cell_type": "code",
   "execution_count": null,
   "metadata": {
    "collapsed": true
   },
   "outputs": [],
   "source": [
    "count"
   ]
  },
  {
   "cell_type": "code",
   "execution_count": null,
   "metadata": {
    "collapsed": true
   },
   "outputs": [],
   "source": [
    "data.shape"
   ]
  },
  {
   "cell_type": "code",
   "execution_count": null,
   "metadata": {
    "collapsed": true
   },
   "outputs": [],
   "source": [
    "data_visual = data.reshape((1024,1024))\n",
    "data_proba_visual = data_proba[:,1].reshape((1024, 1024))"
   ]
  },
  {
   "cell_type": "code",
   "execution_count": null,
   "metadata": {
    "collapsed": true
   },
   "outputs": [],
   "source": [
    "data_visual.shape"
   ]
  },
  {
   "cell_type": "code",
   "execution_count": null,
   "metadata": {
    "collapsed": true
   },
   "outputs": [],
   "source": [
    "data_proba_visual.shape"
   ]
  },
  {
   "cell_type": "markdown",
   "metadata": {},
   "source": [
    "### Load saved data"
   ]
  },
  {
   "cell_type": "code",
   "execution_count": null,
   "metadata": {
    "collapsed": true
   },
   "outputs": [],
   "source": [
    "import numpy as np"
   ]
  },
  {
   "cell_type": "code",
   "execution_count": null,
   "metadata": {
    "collapsed": true
   },
   "outputs": [],
   "source": [
    "data_visual = np.load(DATA_PATH + \"res_data_01_visual.npy\")[256:768,256:768]\n",
    "data_proba_visual = np.load(DATA_PATH + \"res_data_proba_visual.npy\")[256:768,256:768]"
   ]
  },
  {
   "cell_type": "code",
   "execution_count": null,
   "metadata": {},
   "outputs": [],
   "source": [
    "data_visual.shape"
   ]
  },
  {
   "cell_type": "markdown",
   "metadata": {},
   "source": [
    "### Show image"
   ]
  },
  {
   "cell_type": "code",
   "execution_count": null,
   "metadata": {
    "collapsed": true,
    "scrolled": true
   },
   "outputs": [],
   "source": [
    "import matplotlib as mpl\n",
    "mpl.use('Agg')\n",
    "import matplotlib.pyplot as plt\n",
    "\n",
    "% matplotlib inline\n",
    "\n",
    "# mpl.style.use('classic')"
   ]
  },
  {
   "cell_type": "code",
   "execution_count": null,
   "metadata": {},
   "outputs": [],
   "source": [
    "plt.figure(figsize=(8, 8))\n",
    "# plt.suptitle(title, size=16)\n",
    "plt.imshow(data_visual, \n",
    "            cmap=plt.cm.Greys,\n",
    "            #vmin=-vmax, vmax=vmax\n",
    "          )\n",
    "plt.xticks([])\n",
    "plt.yticks([])\n",
    "plt.show()"
   ]
  },
  {
   "cell_type": "code",
   "execution_count": null,
   "metadata": {
    "scrolled": false
   },
   "outputs": [],
   "source": [
    "plt.figure(figsize=(8, 8))\n",
    "# plt.suptitle(title, size=16)\n",
    "plt.imshow(data_proba_visual, \n",
    "            cmap=plt.cm.Greys,\n",
    "            #vmin=-vmax, vmax=vmax\n",
    "          )\n",
    "plt.xticks([])\n",
    "plt.yticks([])\n",
    "plt.show()"
   ]
  },
  {
   "cell_type": "code",
   "execution_count": null,
   "metadata": {
    "scrolled": true
   },
   "outputs": [],
   "source": [
    "%cd ~/Documents\n",
    "\n",
    "import matplotlib.image as mpimg"
   ]
  },
  {
   "cell_type": "code",
   "execution_count": null,
   "metadata": {
    "scrolled": true
   },
   "outputs": [],
   "source": [
    "plt.figure(figsize=(8, 8))\n",
    "img=mpimg.imread('edge.png')\n",
    "plt.imshow(img)\n",
    "plt.xticks([])\n",
    "plt.yticks([])\n",
    "plt.show()"
   ]
  },
  {
   "cell_type": "code",
   "execution_count": null,
   "metadata": {
    "collapsed": true
   },
   "outputs": [],
   "source": []
  }
 ],
 "metadata": {
  "kernelspec": {
   "display_name": "Python 3",
   "language": "python",
   "name": "python3"
  },
  "language_info": {
   "codemirror_mode": {
    "name": "ipython",
    "version": 3
   },
   "file_extension": ".py",
   "mimetype": "text/x-python",
   "name": "python",
   "nbconvert_exporter": "python",
   "pygments_lexer": "ipython3",
   "version": "3.6.3"
  }
 },
 "nbformat": 4,
 "nbformat_minor": 2
}
