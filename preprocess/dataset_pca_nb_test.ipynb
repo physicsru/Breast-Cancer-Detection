{
 "cells": [
  {
   "cell_type": "code",
   "execution_count": null,
   "metadata": {
    "collapsed": true
   },
   "outputs": [],
   "source": [
    "import os, json, glob, sys, time\n",
    "import numpy as np\n",
    "import matplotlib.pyplot as plt\n",
    "\n",
    "sys.path.append(\"./pyusct/\")\n",
    "from dataCompressor import Compressor\n",
    "\n",
    "%matplotlib inline\n",
    "%load_ext autoreload\n",
    "%autoreload 2"
   ]
  },
  {
   "cell_type": "code",
   "execution_count": null,
   "metadata": {
    "collapsed": true
   },
   "outputs": [],
   "source": [
    "MOUNT_PATH = \"/run/user/1000/gvfs/smb-share:server=azlab-fs01.local,share=東研究室/個人work/富井/\"\n",
    "p = {\n",
    "    \"input\": {\n",
    "        \"sim_path\" : os.path.join(MOUNT_PATH, \"nb_usctsim/sim_013/\"), \n",
    "        \"model_path\" : os.path.join(MOUNT_PATH, \"PYUSCT_model/PCA/PCA_model_T16.pickle\"),\n",
    "        \"size\" : [16, 16],\n",
    "        \"offset\" : [256, 256],\n",
    "        \"interval\": [2,1,1] # Transducer, receiver, time\n",
    "    },\n",
    "    \n",
    "    \"output\" : {\n",
    "        \"path\" : os.path.join(MOUNT_PATH, \"PYUSCT_train/dataset_test/\"),\n",
    "    },\n",
    "    \"comment\": \"PCAed 512*512 for T16 from weak cycle sample\",\n",
    "}"
   ]
  },
  {
   "cell_type": "code",
   "execution_count": null,
   "metadata": {},
   "outputs": [],
   "source": [
    "out_dir = p[\"output\"][\"path\"]\n",
    "if not os.path.exists(out_dir): \n",
    "    os.makedirs(out_dir)\n",
    "with open(os.path.join(p[\"output\"][\"path\"],\"param.json\"), 'w') as outf:\n",
    "    json.dump(p, outf, indent=4)"
   ]
  },
  {
   "cell_type": "code",
   "execution_count": null,
   "metadata": {
    "collapsed": true
   },
   "outputs": [],
   "source": [
    "compressor = Compressor(p[\"input\"][\"model_path\"])"
   ]
  },
  {
   "cell_type": "code",
   "execution_count": null,
   "metadata": {
    "scrolled": false
   },
   "outputs": [],
   "source": [
    "compressor.genDatasetFromSim(p[\"input\"][\"sim_path\"], \n",
    "                             p[\"input\"][\"size\"], \n",
    "                             p[\"input\"][\"offset\"], \n",
    "                             p[\"input\"][\"interval\"],\n",
    "                             p[\"output\"][\"path\"])"
   ]
  },
  {
   "cell_type": "raw",
   "metadata": {},
   "source": [
    "# memo\n",
    "\n",
    "Traceback (most recent call last):\n",
    "  File \"/home/yuhui/.pyenv/versions/anaconda3-4.3.1/lib/python3.6/threading.py\", line 916, in _bootstrap_inner\n",
    "    self.run()\n",
    "  File \"./pyusct/dataCompressor.py\", line 91, in run\n",
    "    self.input_path = input_path\n",
    "  File \"./pyusct/dataCompressor.py\", line 156, in batch_from_sim_to_pca_1m1\n",
    "    return pca.transform(subset[::interval[0],::interval[1],:].reshape(1, -1))\n",
    "  File \"/home/yuhui/.pyenv/versions/anaconda3-4.3.1/lib/python3.6/site-packages/numpy/lib/npyio.py\", line 509, in save\n",
    "    pickle_kwargs=pickle_kwargs)\n",
    "  File \"/home/yuhui/.pyenv/versions/anaconda3-4.3.1/lib/python3.6/site-packages/numpy/lib/format.py\", line 587, in write_array\n",
    "    array.tofile(fp)\n",
    "OSError: 52428800 requested and 6307840 written"
   ]
  }
 ],
 "metadata": {
  "kernelspec": {
   "display_name": "Python 3",
   "language": "python",
   "name": "python3"
  },
  "language_info": {
   "codemirror_mode": {
    "name": "ipython",
    "version": 3
   },
   "file_extension": ".py",
   "mimetype": "text/x-python",
   "name": "python",
   "nbconvert_exporter": "python",
   "pygments_lexer": "ipython3",
   "version": "3.6.3"
  }
 },
 "nbformat": 4,
 "nbformat_minor": 2
}
