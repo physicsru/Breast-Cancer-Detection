{
 "cells": [
  {
   "cell_type": "code",
   "execution_count": 1,
   "metadata": {},
   "outputs": [],
   "source": [
    "# import warnings\n",
    "# warnings.filterwarnings(\"ignore\", message=\"numpy.dtype size changed\")\n",
    "import os, json, glob, math\n",
    "import numpy as np\n",
    "import pandas as pd\n",
    "import matplotlib as mpl\n",
    "mpl.use('Agg')\n",
    "import matplotlib.pyplot as plt\n",
    "% matplotlib inline\n",
    "%load_ext autoreload\n",
    "%autoreload 2"
   ]
  },
  {
   "cell_type": "code",
   "execution_count": 2,
   "metadata": {
    "scrolled": true
   },
   "outputs": [
    {
     "name": "stderr",
     "output_type": "stream",
     "text": [
      "/root/.pyenv/versions/anaconda3-5.0.1/lib/python3.6/site-packages/h5py/__init__.py:34: FutureWarning: Conversion of the second argument of issubdtype from `float` to `np.floating` is deprecated. In future, it will be treated as `np.float64 == np.dtype(float).type`.\n",
      "  from ._conv import register_converters as _register_converters\n"
     ]
    }
   ],
   "source": [
    "import sys\n",
    "sys.path.append(\"../pyusct/\")\n",
    "from rfdata import RFdata\n",
    "from trainer import PCATrainer"
   ]
  },
  {
   "cell_type": "code",
   "execution_count": 15,
   "metadata": {
    "collapsed": true
   },
   "outputs": [],
   "source": [
    "LOCAL_PATH = \"/mnt/nas/\"\n",
    "MODEL_DIR = os.path.join(LOCAL_PATH, \"PYUSCT_model/\")\n",
    "DATA_DIR = os.path.join(LOCAL_PATH, \"PYUSCT_train/\")\n",
    "dataset_dir = os.path.join(DATA_DIR, \"dataset036/\")\n",
    "OUTPUT_PATH = os.path.join(LOCAL_PATH, \"PYUSCT_train/dataset037/\")"
   ]
  },
  {
   "cell_type": "markdown",
   "metadata": {},
   "source": [
    "### Load model"
   ]
  },
  {
   "cell_type": "code",
   "execution_count": 4,
   "metadata": {
    "collapsed": true
   },
   "outputs": [],
   "source": [
    "import pickle\n",
    "scaler = pickle.load(open(os.path.join(MODEL_DIR, 'Scaler/Log_MinMax_RFScaler_ds028.pickle'), 'rb'))\n",
    "pca = pickle.load(open(os.path.join(MODEL_DIR, \"PCA/iPCA_log_scaled_ds036.pickle\"), 'rb'))"
   ]
  },
  {
   "cell_type": "markdown",
   "metadata": {},
   "source": [
    "### Load data path"
   ]
  },
  {
   "cell_type": "code",
   "execution_count": 16,
   "metadata": {},
   "outputs": [],
   "source": [
    "input_files = sorted(glob.glob(os.path.join(dataset_dir, \"input/*.npy\")))\n",
    "output_files = sorted(glob.glob(os.path.join(dataset_dir, \"output/*.npy\")))"
   ]
  },
  {
   "cell_type": "markdown",
   "metadata": {},
   "source": [
    "### Generate reduced dataset"
   ]
  },
  {
   "cell_type": "code",
   "execution_count": 17,
   "metadata": {},
   "outputs": [],
   "source": [
    "X = np.zeros((10000, 800))\n",
    "y = np.zeros(10000)\n",
    "input_dir = os.path.join(OUTPUT_PATH, \"input/\")\n",
    "output_dir = os.path.join(OUTPUT_PATH, \"output/\")\n",
    "if not os.path.exists(OUTPUT_PATH):\n",
    "    os.makedirs(input_dir)\n",
    "    os.makedirs(output_dir)"
   ]
  },
  {
   "cell_type": "code",
   "execution_count": null,
   "metadata": {
    "scrolled": true
   },
   "outputs": [
    {
     "name": "stdout",
     "output_type": "stream",
     "text": [
      "0\n",
      "100\n",
      "200\n",
      "300\n",
      "400\n",
      "500\n",
      "600\n",
      "700\n",
      "800\n",
      "900\n",
      "1000\n",
      "1100\n",
      "1200\n",
      "1300\n",
      "1400\n",
      "1500\n",
      "1600\n",
      "1700\n",
      "1800\n",
      "1900\n",
      "2000\n",
      "2100\n",
      "2200\n",
      "2300\n",
      "2400\n",
      "2500\n",
      "2600\n",
      "2700\n"
     ]
    }
   ],
   "source": [
    "batch_size = 10000\n",
    "for i in range(50000//batch_size):    \n",
    "    X = np.zeros((batch_size, 800))\n",
    "    y = np.zeros(batch_size)\n",
    "    \n",
    "    for j in range(batch_size):\n",
    "        k = i*batch_size + j\n",
    "        scaled = scaler.transform(np.load(input_files[k]).reshape(1,-1))\n",
    "        X[j] = pca.transform(scaled)\n",
    "        y[j] = np.load(output_files[k]).reshape(1,-1)\n",
    "        if j % 100 == 0: print(k)\n",
    "            \n",
    "    np.save(input_dir + \"data_{}.npy\".format(i), X)\n",
    "    np.save(output_dir + \"label_{}.npy\".format(i), y)\n",
    "        \n",
    "    "
   ]
  },
  {
   "cell_type": "code",
   "execution_count": null,
   "metadata": {
    "collapsed": true
   },
   "outputs": [],
   "source": []
  }
 ],
 "metadata": {
  "anaconda-cloud": {},
  "kernelspec": {
   "display_name": "Python 3",
   "language": "python",
   "name": "python3"
  },
  "language_info": {
   "codemirror_mode": {
    "name": "ipython",
    "version": 3
   },
   "file_extension": ".py",
   "mimetype": "text/x-python",
   "name": "python",
   "nbconvert_exporter": "python",
   "pygments_lexer": "ipython3",
   "version": "3.6.3"
  }
 },
 "nbformat": 4,
 "nbformat_minor": 1
}
