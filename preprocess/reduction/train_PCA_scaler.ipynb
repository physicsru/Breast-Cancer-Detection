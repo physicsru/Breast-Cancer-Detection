{
 "cells": [
  {
   "cell_type": "code",
   "execution_count": 1,
   "metadata": {
    "collapsed": true
   },
   "outputs": [],
   "source": [
    "import os, json, glob, math\n",
    "import numpy as np\n",
    "import pandas as pd\n",
    "import matplotlib as mpl\n",
    "mpl.use('Agg')\n",
    "import matplotlib.pyplot as plt\n",
    "% matplotlib inline\n",
    "%load_ext autoreload\n",
    "%autoreload 2"
   ]
  },
  {
   "cell_type": "code",
   "execution_count": 2,
   "metadata": {
    "collapsed": true
   },
   "outputs": [],
   "source": [
    "import sys\n",
    "sys.path.append(\"../pyusct/\")\n",
    "from rfdata import RFdata\n",
    "from scaler import RFScaler"
   ]
  },
  {
   "cell_type": "code",
   "execution_count": 3,
   "metadata": {
    "collapsed": true
   },
   "outputs": [],
   "source": [
    "LOCAL_PATH = \"/media/yuhui/dea78678-112b-4f0f-acbf-4e9d1be35e351/nas/\"\n",
    "MOUNT_PATH = \"/run/user/1000/gvfs/smb-share:server=azlab-fs01.local,share=東研究室/個人work/富井/\"\n",
    "MODEL_DIR = \"/run/user/1000/gvfs/smb-share:server=azlab-fs01.local,share=東研究室/個人work/富井/PYUSCT_model/\""
   ]
  },
  {
   "cell_type": "code",
   "execution_count": 4,
   "metadata": {
    "collapsed": true
   },
   "outputs": [],
   "source": [
    "dir_dataset = os.path.join(LOCAL_PATH, \"PYUSCT_train/dataset028/\")"
   ]
  },
  {
   "cell_type": "code",
   "execution_count": 7,
   "metadata": {
    "collapsed": true
   },
   "outputs": [],
   "source": [
    "input_files = sorted(glob.glob(os.path.join(dir_dataset, \"input/*.npy\")))\n",
    "output_files = sorted(glob.glob(os.path.join(dir_dataset, \"output/*.npy\")))"
   ]
  },
  {
   "cell_type": "code",
   "execution_count": 5,
   "metadata": {
    "collapsed": true
   },
   "outputs": [],
   "source": [
    "from sklearn.model_selection import train_test_split"
   ]
  },
  {
   "cell_type": "code",
   "execution_count": 8,
   "metadata": {},
   "outputs": [],
   "source": [
    "X_train, X_test, y_train, y_test = train_test_split(input_files, output_files, test_size=0.2, random_state=42)"
   ]
  },
  {
   "cell_type": "code",
   "execution_count": 9,
   "metadata": {
    "scrolled": true
   },
   "outputs": [
    {
     "name": "stdout",
     "output_type": "stream",
     "text": [
      "(1, 16, 256, 200)\n",
      "(1, 16, 256, 200)\n",
      "(1, 16, 256, 200)\n",
      "(1, 16, 256, 200)\n",
      "(1, 16, 256, 200)\n",
      "(1, 16, 256, 200)\n",
      "(1, 16, 256, 200)\n",
      "(1, 16, 256, 200)\n",
      "(1, 16, 256, 200)\n",
      "(1, 16, 256, 200)\n"
     ]
    }
   ],
   "source": [
    "for path in input_files[:10]:\n",
    "    tmp = np.load(path)\n",
    "    print(tmp.shape)"
   ]
  },
  {
   "cell_type": "code",
   "execution_count": 18,
   "metadata": {
    "collapsed": true
   },
   "outputs": [],
   "source": [
    "import pickle\n",
    "scaler = pickle.load(open(os.path.join(MODEL_DIR, 'Scaler/Log_MinMax_RFScaler_ds028.pickle'), 'rb'))"
   ]
  },
  {
   "cell_type": "code",
   "execution_count": 27,
   "metadata": {
    "collapsed": true
   },
   "outputs": [],
   "source": [
    "from sklearn.decomposition import IncrementalPCA"
   ]
  },
  {
   "cell_type": "code",
   "execution_count": 28,
   "metadata": {
    "collapsed": true
   },
   "outputs": [],
   "source": [
    "ipca = IncrementalPCA(n_components=800)"
   ]
  },
  {
   "cell_type": "code",
   "execution_count": 29,
   "metadata": {},
   "outputs": [
    {
     "name": "stdout",
     "output_type": "stream",
     "text": [
      "(1000, 819200)\n",
      "0\n",
      "(1000, 819200)\n",
      "1000\n",
      "(1000, 819200)\n",
      "2000\n",
      "(1000, 819200)\n",
      "3000\n",
      "(1000, 819200)\n",
      "4000\n",
      "(1000, 819200)\n",
      "5000\n",
      "(1000, 819200)\n",
      "6000\n",
      "(1000, 819200)\n",
      "7000\n",
      "(1000, 819200)\n",
      "8000\n",
      "(1000, 819200)\n",
      "9000\n"
     ]
    }
   ],
   "source": [
    "batch_size = 1000\n",
    "for i in range(0, 10000, batch_size):\n",
    "    path_batch = X_train[i:i+batch_size]\n",
    "    # print(path_batch[0], path_batch[-1])\n",
    "    X_batch = np.zeros((batch_size, 16*256*200))\n",
    "    for j, path in enumerate(path_batch):\n",
    "        X_batch[j] = np.load(path).flatten()\n",
    "    # print(X_batch[1])\n",
    "    X_batch = scaler.transform(X_batch)\n",
    "    # print(X_batch[1])\n",
    "    # break\n",
    "    print(X_batch.shape)\n",
    "    ipca.partial_fit(X_batch)\n",
    "    print(i)\n",
    "        "
   ]
  },
  {
   "cell_type": "code",
   "execution_count": 30,
   "metadata": {
    "collapsed": true
   },
   "outputs": [],
   "source": [
    "import pickle"
   ]
  },
  {
   "cell_type": "code",
   "execution_count": null,
   "metadata": {
    "collapsed": true
   },
   "outputs": [],
   "source": [
    "model_name = \"iPCA.pickle\""
   ]
  },
  {
   "cell_type": "code",
   "execution_count": 37,
   "metadata": {},
   "outputs": [],
   "source": [
    "with open(os.path.join(LOCAL_PATH, \"PYUSCT_model/PCA/\"+model_name), \"wb\") as handle:\n",
    "    pickle.dump(ipca, handle, protocol=pickle.HIGHEST_PROTOCOL)"
   ]
  },
  {
   "cell_type": "code",
   "execution_count": null,
   "metadata": {
    "collapsed": true
   },
   "outputs": [],
   "source": []
  }
 ],
 "metadata": {
  "kernelspec": {
   "display_name": "Python 3",
   "language": "python",
   "name": "python3"
  },
  "language_info": {
   "codemirror_mode": {
    "name": "ipython",
    "version": 3
   },
   "file_extension": ".py",
   "mimetype": "text/x-python",
   "name": "python",
   "nbconvert_exporter": "python",
   "pygments_lexer": "ipython3",
   "version": "3.6.3"
  }
 },
 "nbformat": 4,
 "nbformat_minor": 2
}
