{
 "cells": [
  {
   "cell_type": "code",
   "execution_count": 1,
   "metadata": {
    "collapsed": true
   },
   "outputs": [],
   "source": [
    "import os, json, glob, sys, time\n",
    "import numpy as np\n",
    "import matplotlib.pyplot as plt\n",
    "\n",
    "sys.path.append(\"./pyusct/\")\n",
    "from dataCompressor import Compressor\n",
    "\n",
    "%matplotlib inline\n",
    "%load_ext autoreload\n",
    "%autoreload 2"
   ]
  },
  {
   "cell_type": "code",
   "execution_count": 4,
   "metadata": {
    "collapsed": true
   },
   "outputs": [],
   "source": [
    "# OUTPUT_PATH = \"/media/yuhui/dea78678-112b-4f0f-acbf-4e9d1be35e35/nas/\"\n",
    "MOUNT_PATH = \"/run/user/1000/gvfs/smb-share:server=azlab-fs01,share=東研究室/個人work/富井/\"\n",
    "p = {\n",
    "    \"input\": {\n",
    "        \"sim_path\" : os.path.join(MOUNT_PATH, \"nb_usctsim/sim_015/\"), \n",
    "        \"model_path\" : os.path.join(MOUNT_PATH, \"PYUSCT_model/PCA/PCA_model_T16_random_sample_weak.pickle\"),\n",
    "        \"size\" : [512, 512],\n",
    "        \"offset\" : [256, 256],\n",
    "        \"interval\": [1,1,1] # Transducer, receiver, time\n",
    "    },\n",
    "    \n",
    "    \"output\" : {\n",
    "        \"path\" : os.path.join(MOUNT_PATH, \"PYUSCT_train/dataset030/\"),\n",
    "    },\n",
    "    \"comment\": \"randomed PCAed 512*512 for T16 from weak cycle sample\",\n",
    "}"
   ]
  },
  {
   "cell_type": "code",
   "execution_count": 5,
   "metadata": {},
   "outputs": [],
   "source": [
    "if not os.path.exists(p[\"output\"][\"path\"]): \n",
    "    os.makedirs(p[\"output\"][\"path\"])\n",
    "with open(os.path.join(p[\"output\"][\"path\"],\"param.json\"), 'w') as outf:\n",
    "    json.dump(p, outf, indent=4)"
   ]
  },
  {
   "cell_type": "code",
   "execution_count": 6,
   "metadata": {
    "collapsed": true
   },
   "outputs": [],
   "source": [
    "compressor = Compressor(p[\"input\"][\"model_path\"])"
   ]
  },
  {
   "cell_type": "code",
   "execution_count": null,
   "metadata": {
    "scrolled": false
   },
   "outputs": [
    {
     "name": "stdout",
     "output_type": "stream",
     "text": [
      "Mon Jul  2 20:14:47 2018 Process of trial_001 start.\n",
      "/run/user/1000/gvfs/smb-share:server=azlab-fs01,share=東研究室/個人work/富井/nb_usctsim/sim_015/trial_001\n",
      "/run/user/1000/gvfs/smb-share:server=azlab-fs01,share=東研究室/個人work/富井/PYUSCT_train/dataset030/trial_001/input/\n",
      "/run/user/1000/gvfs/smb-share:server=azlab-fs01,share=東研究室/個人work/富井/PYUSCT_model/PCA/PCA_model_T16_random_sample_weak.pickle\n",
      "Mon Jul  2 20:14:47 2018  Thread 000: start\n",
      "raw data loaded.\n",
      "Mon Jul  2 20:15:50 2018  Thread 001: start\n",
      "raw data loaded.\n",
      "Mon Jul  2 20:16:53 2018  Thread 002: start\n",
      "raw data loaded.\n",
      "Mon Jul  2 20:17:56 2018  Thread 003: start\n",
      "raw data loaded.\n",
      "Thread 000: PCA model loaded.Thread 001: PCA model loaded.Thread 003: PCA model loaded.Thread 002: PCA model loaded.\n",
      "\n",
      "\n",
      "\n",
      "Thread 000: processingThread 001: processingThread 003: processingThread 002: processing\n",
      "\n",
      "\n",
      "\n",
      "Thread 000: 10000 points completes Mon Jul  2 23:29:36 2018\n",
      "Thread 002: 10000 points completes Mon Jul  2 23:33:26 2018\n",
      "Thread 001: 10000 points completes Mon Jul  2 23:33:40 2018\n",
      "Thread 003: 10000 points completes Mon Jul  2 23:35:45 2018\n",
      "Thread 000: 20000 points completes Tue Jul  3 02:39:20 2018\n",
      "Thread 002: 20000 points completes Tue Jul  3 02:46:45 2018\n",
      "Thread 001: 20000 points completes Tue Jul  3 02:47:26 2018\n",
      "Thread 003: 20000 points completes Tue Jul  3 02:50:43 2018\n",
      "Thread 000: 30000 points completes Tue Jul  3 05:48:43 2018\n",
      "Thread 002: 30000 points completes Tue Jul  3 05:59:05 2018\n",
      "Thread 001: 30000 points completes Tue Jul  3 06:00:39 2018\n",
      "Thread 003: 30000 points completes Tue Jul  3 06:06:35 2018\n",
      "Thread 000: 40000 points completes Tue Jul  3 08:57:45 2018\n",
      "Thread 002: 40000 points completes Tue Jul  3 09:11:53 2018\n",
      "Thread 001: 40000 points completes Tue Jul  3 09:13:16 2018\n",
      "Thread 003: 40000 points completes Tue Jul  3 09:22:32 2018\n",
      "Thread 000: 50000 points completes Tue Jul  3 12:07:24 2018\n",
      "Thread 002: 50000 points completes Tue Jul  3 12:25:49 2018\n",
      "Thread 001: 50000 points completes Tue Jul  3 12:27:06 2018\n",
      "Thread 003: 50000 points completes Tue Jul  3 12:40:27 2018\n",
      "Thread 000: 60000 points completes Tue Jul  3 15:19:40 2018\n",
      "Thread 002: 60000 points completes Tue Jul  3 15:43:16 2018\n",
      "Thread 001: 60000 points completes Tue Jul  3 15:43:56 2018\n",
      "Thread 003: 60000 points completes Tue Jul  3 16:02:49 2018\n",
      "Thread 000: Saving file.\n",
      "Thread 000: File saved.\n",
      "Tue Jul  3 17:06:47 2018  Thread 000: completed.\n"
     ]
    }
   ],
   "source": [
    "compressor.genDatasetFromSim(p[\"input\"][\"sim_path\"], \n",
    "                             p[\"input\"][\"size\"], \n",
    "                             p[\"input\"][\"offset\"], \n",
    "                             p[\"input\"][\"interval\"],\n",
    "                             p[\"output\"][\"path\"])"
   ]
  },
  {
   "cell_type": "code",
   "execution_count": null,
   "metadata": {
    "collapsed": true
   },
   "outputs": [],
   "source": []
  }
 ],
 "metadata": {
  "kernelspec": {
   "display_name": "Python 3",
   "language": "python",
   "name": "python3"
  },
  "language_info": {
   "codemirror_mode": {
    "name": "ipython",
    "version": 3
   },
   "file_extension": ".py",
   "mimetype": "text/x-python",
   "name": "python",
   "nbconvert_exporter": "python",
   "pygments_lexer": "ipython3",
   "version": "3.6.3"
  }
 },
 "nbformat": 4,
 "nbformat_minor": 2
}
