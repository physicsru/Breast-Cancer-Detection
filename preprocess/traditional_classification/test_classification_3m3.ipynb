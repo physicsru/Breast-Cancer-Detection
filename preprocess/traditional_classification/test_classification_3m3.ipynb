{
 "cells": [
  {
   "cell_type": "code",
   "execution_count": 47,
   "metadata": {
    "collapsed": true
   },
   "outputs": [],
   "source": [
    "import numpy as np"
   ]
  },
  {
   "cell_type": "code",
   "execution_count": 48,
   "metadata": {
    "collapsed": true
   },
   "outputs": [],
   "source": [
    "MOUNT_PATH = \"/run/user/1000/gvfs/smb-share:server=azlab-fs01,share=東研究室/個人work/富井/\""
   ]
  },
  {
   "cell_type": "code",
   "execution_count": 49,
   "metadata": {},
   "outputs": [
    {
     "name": "stdout",
     "output_type": "stream",
     "text": [
      "\u001b[0m\u001b[01;34m20170807RFdata\u001b[0m/  \u001b[01;34m2017-11-24_1\u001b[0m/  \u001b[01;34m2018-01-13_1\u001b[0m/       \u001b[01;34mPYUSCT_model\u001b[0m/\r\n",
      "\u001b[01;34m2017-11-20\u001b[0m/      \u001b[01;34m2017-12-18_1\u001b[0m/  \u001b[01;34m2018-03-30\u001b[0m/         \u001b[01;34mPYUSCT_train\u001b[0m/\r\n",
      "\u001b[01;34m2017-11-20_2\u001b[0m/    \u001b[01;34m2018-01-10_1\u001b[0m/  \u001b[01;34m2018-04-01\u001b[0m/         \u001b[01;32mtest.txt\u001b[0m*\r\n",
      "\u001b[01;34m2017-11-22_1\u001b[0m/    \u001b[01;34m2018-01-10_2\u001b[0m/  \u001b[01;34mnb_opmap_rayleigh\u001b[0m/  \u001b[01;32mtraining_data.hdf5\u001b[0m*\r\n",
      "\u001b[01;34m2017-11-23_1\u001b[0m/    \u001b[01;34m2018-01-12_1\u001b[0m/  \u001b[01;34mnb_usctsim\u001b[0m/\r\n",
      "\u001b[01;34m2017-11-23_2\u001b[0m/    \u001b[01;34m2018-01-12_2\u001b[0m/  \u001b[01;34moptical\u001b[0m/\r\n"
     ]
    }
   ],
   "source": [
    "ls $MOUNT_PATH"
   ]
  },
  {
   "cell_type": "code",
   "execution_count": 50,
   "metadata": {
    "collapsed": true
   },
   "outputs": [],
   "source": [
    "DATA_PATH = MOUNT_PATH + \"PYUSCT_train/dataset010/pca_X/\" \n",
    "MODEL_PATH = MOUNT_PATH + \"PYUSCT_train/dataset010/model/\""
   ]
  },
  {
   "cell_type": "code",
   "execution_count": 51,
   "metadata": {},
   "outputs": [
    {
     "name": "stdout",
     "output_type": "stream",
     "text": [
      "\u001b[0m\u001b[01;32mbatch1000_X0000.npy\u001b[0m*  \u001b[01;32mbatch1000_X0004.npy\u001b[0m*  \u001b[01;32mbatch1000_X0008.npy\u001b[0m*\r\n",
      "\u001b[01;32mbatch1000_X0001.npy\u001b[0m*  \u001b[01;32mbatch1000_X0005.npy\u001b[0m*  \u001b[01;32mbatch1000_X0009.npy\u001b[0m*\r\n",
      "\u001b[01;32mbatch1000_X0002.npy\u001b[0m*  \u001b[01;32mbatch1000_X0006.npy\u001b[0m*  \u001b[01;32mpca_X.npy\u001b[0m*\r\n",
      "\u001b[01;32mbatch1000_X0003.npy\u001b[0m*  \u001b[01;32mbatch1000_X0007.npy\u001b[0m*  \u001b[01;32mpca_y.npy\u001b[0m*\r\n"
     ]
    }
   ],
   "source": [
    "ls $DATA_PATH"
   ]
  },
  {
   "cell_type": "code",
   "execution_count": 52,
   "metadata": {
    "collapsed": true
   },
   "outputs": [],
   "source": [
    "X = np.load(DATA_PATH + \"pca_X.npy\")\n",
    "y = np.load(DATA_PATH + \"pca_y.npy\")"
   ]
  },
  {
   "cell_type": "code",
   "execution_count": 53,
   "metadata": {
    "scrolled": false
   },
   "outputs": [
    {
     "data": {
      "text/plain": [
       "((10000, 800), (10000,))"
      ]
     },
     "execution_count": 53,
     "metadata": {},
     "output_type": "execute_result"
    }
   ],
   "source": [
    "X.shape, y.shape"
   ]
  },
  {
   "cell_type": "markdown",
   "metadata": {},
   "source": [
    "## Data split"
   ]
  },
  {
   "cell_type": "code",
   "execution_count": 54,
   "metadata": {
    "collapsed": true
   },
   "outputs": [],
   "source": [
    "from sklearn.model_selection import train_test_split"
   ]
  },
  {
   "cell_type": "code",
   "execution_count": 55,
   "metadata": {
    "collapsed": true
   },
   "outputs": [],
   "source": [
    "X_train, X_test, y_train, y_test = train_test_split(X, y, test_size=0.33, random_state=42)"
   ]
  },
  {
   "cell_type": "code",
   "execution_count": 56,
   "metadata": {},
   "outputs": [
    {
     "data": {
      "text/plain": [
       "((6700, 800), (3300, 800))"
      ]
     },
     "execution_count": 56,
     "metadata": {},
     "output_type": "execute_result"
    }
   ],
   "source": [
    "X_train.shape, X_test.shape"
   ]
  },
  {
   "cell_type": "markdown",
   "metadata": {},
   "source": [
    "## Classification"
   ]
  },
  {
   "cell_type": "code",
   "execution_count": 57,
   "metadata": {
    "collapsed": true
   },
   "outputs": [],
   "source": [
    "from sklearn.metrics import classification_report"
   ]
  },
  {
   "cell_type": "code",
   "execution_count": 58,
   "metadata": {
    "collapsed": true
   },
   "outputs": [],
   "source": [
    "target_names = [\"no edge\", \"edge\"]"
   ]
  },
  {
   "cell_type": "markdown",
   "metadata": {},
   "source": [
    "### Logistic Regression"
   ]
  },
  {
   "cell_type": "code",
   "execution_count": 16,
   "metadata": {
    "collapsed": true
   },
   "outputs": [],
   "source": [
    "from sklearn.linear_model import LogisticRegression"
   ]
  },
  {
   "cell_type": "code",
   "execution_count": 17,
   "metadata": {
    "collapsed": true
   },
   "outputs": [],
   "source": [
    "clf_l1_LR = LogisticRegression(C=20, penalty='l1', tol=0.01)\n",
    "clf_l2_LR = LogisticRegression(C=20, penalty='l2', tol=0.01)"
   ]
  },
  {
   "cell_type": "markdown",
   "metadata": {},
   "source": [
    "#### with L1"
   ]
  },
  {
   "cell_type": "code",
   "execution_count": 18,
   "metadata": {},
   "outputs": [
    {
     "data": {
      "text/plain": [
       "LogisticRegression(C=20, class_weight=None, dual=False, fit_intercept=True,\n",
       "          intercept_scaling=1, max_iter=100, multi_class='ovr', n_jobs=1,\n",
       "          penalty='l1', random_state=None, solver='liblinear', tol=0.01,\n",
       "          verbose=0, warm_start=False)"
      ]
     },
     "execution_count": 18,
     "metadata": {},
     "output_type": "execute_result"
    }
   ],
   "source": [
    "clf_l1_LR.fit(X_train, y_train)"
   ]
  },
  {
   "cell_type": "code",
   "execution_count": 19,
   "metadata": {
    "collapsed": true
   },
   "outputs": [],
   "source": [
    "y_pred = clf_l1_LR.predict(X_test)"
   ]
  },
  {
   "cell_type": "code",
   "execution_count": 20,
   "metadata": {
    "scrolled": true
   },
   "outputs": [
    {
     "name": "stdout",
     "output_type": "stream",
     "text": [
      "Logistic with L1\n",
      "             precision    recall  f1-score   support\n",
      "\n",
      "    no edge       0.92      0.86      0.89      1572\n",
      "       edge       0.88      0.94      0.91      1728\n",
      "\n",
      "avg / total       0.90      0.90      0.90      3300\n",
      "\n"
     ]
    }
   ],
   "source": [
    "print(\"Logistic with L1\")\n",
    "print(classification_report(y_test, y_pred, target_names=target_names))"
   ]
  },
  {
   "cell_type": "markdown",
   "metadata": {},
   "source": [
    "#### with L2"
   ]
  },
  {
   "cell_type": "code",
   "execution_count": 21,
   "metadata": {},
   "outputs": [
    {
     "data": {
      "text/plain": [
       "LogisticRegression(C=20, class_weight=None, dual=False, fit_intercept=True,\n",
       "          intercept_scaling=1, max_iter=100, multi_class='ovr', n_jobs=1,\n",
       "          penalty='l2', random_state=None, solver='liblinear', tol=0.01,\n",
       "          verbose=0, warm_start=False)"
      ]
     },
     "execution_count": 21,
     "metadata": {},
     "output_type": "execute_result"
    }
   ],
   "source": [
    "clf_l2_LR.fit(X_train, y_train)"
   ]
  },
  {
   "cell_type": "code",
   "execution_count": 22,
   "metadata": {
    "collapsed": true
   },
   "outputs": [],
   "source": [
    "y_pred = clf_l2_LR.predict(X_test)"
   ]
  },
  {
   "cell_type": "code",
   "execution_count": 23,
   "metadata": {},
   "outputs": [
    {
     "name": "stdout",
     "output_type": "stream",
     "text": [
      "Logistic with L2\n",
      "             precision    recall  f1-score   support\n",
      "\n",
      "    no edge       0.94      0.85      0.89      1572\n",
      "       edge       0.88      0.95      0.91      1728\n",
      "\n",
      "avg / total       0.91      0.90      0.90      3300\n",
      "\n"
     ]
    }
   ],
   "source": [
    "print(\"Logistic with L2\")\n",
    "print(classification_report(y_test, y_pred, target_names=target_names))"
   ]
  },
  {
   "cell_type": "markdown",
   "metadata": {},
   "source": [
    "### SVM/RVM"
   ]
  },
  {
   "cell_type": "code",
   "execution_count": 24,
   "metadata": {
    "collapsed": true
   },
   "outputs": [],
   "source": [
    "from sklearn import svm"
   ]
  },
  {
   "cell_type": "code",
   "execution_count": 25,
   "metadata": {
    "collapsed": true
   },
   "outputs": [],
   "source": [
    "clf_svm_rbf = svm.SVC(kernel='rbf')\n",
    "clf_svm_linear = svm.SVC(kernel='linear')\n",
    "clf_svm_sigmoid = svm.SVC(kernel='sigmoid')"
   ]
  },
  {
   "cell_type": "markdown",
   "metadata": {},
   "source": [
    "#### rbf kernel"
   ]
  },
  {
   "cell_type": "code",
   "execution_count": 26,
   "metadata": {},
   "outputs": [
    {
     "data": {
      "text/plain": [
       "SVC(C=1.0, cache_size=200, class_weight=None, coef0=0.0,\n",
       "  decision_function_shape='ovr', degree=3, gamma='auto', kernel='rbf',\n",
       "  max_iter=-1, probability=False, random_state=None, shrinking=True,\n",
       "  tol=0.001, verbose=False)"
      ]
     },
     "execution_count": 26,
     "metadata": {},
     "output_type": "execute_result"
    }
   ],
   "source": [
    "clf_svm_rbf.fit(X_train, y_train)"
   ]
  },
  {
   "cell_type": "code",
   "execution_count": 27,
   "metadata": {
    "collapsed": true
   },
   "outputs": [],
   "source": [
    "y_pred = clf_svm_rbf.predict(X_test)"
   ]
  },
  {
   "cell_type": "code",
   "execution_count": 28,
   "metadata": {
    "scrolled": false
   },
   "outputs": [
    {
     "name": "stdout",
     "output_type": "stream",
     "text": [
      "SVM with rbf kernel\n",
      "             precision    recall  f1-score   support\n",
      "\n",
      "    no edge       1.00      0.06      0.12      1572\n",
      "       edge       0.54      1.00      0.70      1728\n",
      "\n",
      "avg / total       0.76      0.55      0.42      3300\n",
      "\n"
     ]
    }
   ],
   "source": [
    "print(\"SVM with rbf kernel\")\n",
    "print(classification_report(y_test, y_pred, target_names=target_names))"
   ]
  },
  {
   "cell_type": "markdown",
   "metadata": {},
   "source": [
    "#### linear kernel"
   ]
  },
  {
   "cell_type": "code",
   "execution_count": 29,
   "metadata": {},
   "outputs": [
    {
     "data": {
      "text/plain": [
       "SVC(C=1.0, cache_size=200, class_weight=None, coef0=0.0,\n",
       "  decision_function_shape='ovr', degree=3, gamma='auto', kernel='linear',\n",
       "  max_iter=-1, probability=False, random_state=None, shrinking=True,\n",
       "  tol=0.001, verbose=False)"
      ]
     },
     "execution_count": 29,
     "metadata": {},
     "output_type": "execute_result"
    }
   ],
   "source": [
    "clf_svm_linear.fit(X_train, y_train)"
   ]
  },
  {
   "cell_type": "code",
   "execution_count": 30,
   "metadata": {
    "collapsed": true
   },
   "outputs": [],
   "source": [
    "y_pred = clf_svm_linear.predict(X_test)"
   ]
  },
  {
   "cell_type": "code",
   "execution_count": 31,
   "metadata": {},
   "outputs": [
    {
     "name": "stdout",
     "output_type": "stream",
     "text": [
      "SVM with linear kernel\n",
      "             precision    recall  f1-score   support\n",
      "\n",
      "    no edge       0.96      0.78      0.86      1572\n",
      "       edge       0.83      0.97      0.89      1728\n",
      "\n",
      "avg / total       0.89      0.88      0.88      3300\n",
      "\n"
     ]
    }
   ],
   "source": [
    "print(\"SVM with linear kernel\")\n",
    "print(classification_report(y_test, y_pred, target_names=target_names))"
   ]
  },
  {
   "cell_type": "markdown",
   "metadata": {},
   "source": [
    "#### sigmoid kernel"
   ]
  },
  {
   "cell_type": "code",
   "execution_count": 32,
   "metadata": {},
   "outputs": [
    {
     "data": {
      "text/plain": [
       "SVC(C=1.0, cache_size=200, class_weight=None, coef0=0.0,\n",
       "  decision_function_shape='ovr', degree=3, gamma='auto', kernel='sigmoid',\n",
       "  max_iter=-1, probability=False, random_state=None, shrinking=True,\n",
       "  tol=0.001, verbose=False)"
      ]
     },
     "execution_count": 32,
     "metadata": {},
     "output_type": "execute_result"
    }
   ],
   "source": [
    "clf_svm_sigmoid.fit(X_train, y_train)"
   ]
  },
  {
   "cell_type": "code",
   "execution_count": 33,
   "metadata": {
    "collapsed": true
   },
   "outputs": [],
   "source": [
    "y_pred = clf_svm_sigmoid.predict(X_test)"
   ]
  },
  {
   "cell_type": "code",
   "execution_count": 34,
   "metadata": {},
   "outputs": [
    {
     "name": "stdout",
     "output_type": "stream",
     "text": [
      "SVM with sigmoid kernel\n",
      "             precision    recall  f1-score   support\n",
      "\n",
      "    no edge       1.00      0.04      0.08      1572\n",
      "       edge       0.53      1.00      0.70      1728\n",
      "\n",
      "avg / total       0.76      0.54      0.40      3300\n",
      "\n"
     ]
    }
   ],
   "source": [
    "print(\"SVM with sigmoid kernel\")\n",
    "print(classification_report(y_test, y_pred, target_names=target_names))"
   ]
  },
  {
   "cell_type": "markdown",
   "metadata": {},
   "source": [
    "### Gaussian Process Regression"
   ]
  },
  {
   "cell_type": "code",
   "execution_count": 37,
   "metadata": {
    "collapsed": true
   },
   "outputs": [],
   "source": [
    "from sklearn.gaussian_process.kernels import RBF\n",
    "from sklearn.gaussian_process.kernels import WhiteKernel, ExpSineSquared"
   ]
  },
  {
   "cell_type": "code",
   "execution_count": null,
   "metadata": {
    "collapsed": true
   },
   "outputs": [],
   "source": [
    "from sklearn.gaussian_process import GaussianProcessRegressor"
   ]
  },
  {
   "cell_type": "code",
   "execution_count": null,
   "metadata": {
    "collapsed": true
   },
   "outputs": [],
   "source": [
    "gp_kernel = ExpSineSquared(1.0, 5.0, periodicity_bounds=(1e-2, 1e1)) \\\n",
    "    + WhiteKernel(1e-1)\n",
    "iso_kernel = 1.0 * RBF([1.0])"
   ]
  },
  {
   "cell_type": "code",
   "execution_count": null,
   "metadata": {
    "collapsed": true
   },
   "outputs": [],
   "source": [
    "gpr = GaussianProcessRegressor(kernel=iso_kernel)"
   ]
  },
  {
   "cell_type": "code",
   "execution_count": null,
   "metadata": {
    "collapsed": true
   },
   "outputs": [],
   "source": [
    "y_train.dtype"
   ]
  },
  {
   "cell_type": "code",
   "execution_count": null,
   "metadata": {
    "collapsed": true
   },
   "outputs": [],
   "source": [
    "gpr.fit(X_train, y_train)"
   ]
  },
  {
   "cell_type": "code",
   "execution_count": null,
   "metadata": {
    "collapsed": true
   },
   "outputs": [],
   "source": [
    "y_pred = gpr.predict(X_test)"
   ]
  },
  {
   "cell_type": "code",
   "execution_count": null,
   "metadata": {
    "collapsed": true
   },
   "outputs": [],
   "source": [
    "y_pred[:10]"
   ]
  },
  {
   "cell_type": "code",
   "execution_count": null,
   "metadata": {
    "collapsed": true
   },
   "outputs": [],
   "source": [
    "y_test[:10]"
   ]
  },
  {
   "cell_type": "code",
   "execution_count": null,
   "metadata": {
    "collapsed": true
   },
   "outputs": [],
   "source": [
    "from sklearn.metrics import explained_variance_score\n",
    "print(\"Gaussian Process Regression with isotropic rbf kernel\")\n",
    "print(explained_variance_score(y_test, y_pred))"
   ]
  },
  {
   "cell_type": "markdown",
   "metadata": {},
   "source": [
    "### Gaussian Process Classification"
   ]
  },
  {
   "cell_type": "code",
   "execution_count": 35,
   "metadata": {
    "collapsed": true
   },
   "outputs": [],
   "source": [
    "from sklearn.gaussian_process import GaussianProcessClassifier"
   ]
  },
  {
   "cell_type": "markdown",
   "metadata": {},
   "source": [
    "#### Isotropic kernel"
   ]
  },
  {
   "cell_type": "code",
   "execution_count": 185,
   "metadata": {
    "collapsed": true
   },
   "outputs": [],
   "source": [
    "clf_GPC_rbf_iso = GaussianProcessClassifier(1.0 * RBF([0.1]))"
   ]
  },
  {
   "cell_type": "code",
   "execution_count": 186,
   "metadata": {},
   "outputs": [
    {
     "data": {
      "text/plain": [
       "GaussianProcessClassifier(copy_X_train=True,\n",
       "             kernel=1**2 * RBF(length_scale=0.1), max_iter_predict=100,\n",
       "             multi_class='one_vs_rest', n_jobs=1, n_restarts_optimizer=0,\n",
       "             optimizer='fmin_l_bfgs_b', random_state=None,\n",
       "             warm_start=False)"
      ]
     },
     "execution_count": 186,
     "metadata": {},
     "output_type": "execute_result"
    }
   ],
   "source": [
    "clf_GPC_rbf_iso.fit(X_train, y_train)"
   ]
  },
  {
   "cell_type": "code",
   "execution_count": 187,
   "metadata": {
    "collapsed": true
   },
   "outputs": [],
   "source": [
    "y_pred = clf_GPC_rbf_iso.predict(X_test)"
   ]
  },
  {
   "cell_type": "code",
   "execution_count": 188,
   "metadata": {},
   "outputs": [
    {
     "name": "stdout",
     "output_type": "stream",
     "text": [
      "Gaussian Process Classification with isotropic rbf kernel\n",
      "             precision    recall  f1-score   support\n",
      "\n",
      "    no edge       0.97      0.89      0.93      1572\n",
      "       edge       0.91      0.97      0.94      1728\n",
      "\n",
      "avg / total       0.94      0.93      0.93      3300\n",
      "\n"
     ]
    }
   ],
   "source": [
    "print(\"Gaussian Process Classification with isotropic rbf kernel\")\n",
    "print(classification_report(y_test, y_pred, target_names=target_names))"
   ]
  },
  {
   "cell_type": "markdown",
   "metadata": {},
   "source": [
    "1000 samples 94 -> 83\n",
    "0.0...01~1000 * RBF([0.1~1000] -> 83\n",
    "1 * RBF([0.01] -> 61\n",
    "1 * RBF([10000] -> 36\n"
   ]
  },
  {
   "cell_type": "markdown",
   "metadata": {},
   "source": [
    "#### Anisotropic rbf kernel"
   ]
  },
  {
   "cell_type": "code",
   "execution_count": 60,
   "metadata": {},
   "outputs": [
    {
     "name": "stdout",
     "output_type": "stream",
     "text": [
      "\u001b[0m\u001b[01;32mclf_GPC_rbf_iso.pkl\u001b[0m*  \u001b[01;32mpca1000.pkl\u001b[0m*\r\n"
     ]
    }
   ],
   "source": [
    "%ls $MODEL_PATH"
   ]
  },
  {
   "cell_type": "code",
   "execution_count": 61,
   "metadata": {},
   "outputs": [
    {
     "name": "stdout",
     "output_type": "stream",
     "text": [
      "PCA model loaded.\n"
     ]
    },
    {
     "name": "stderr",
     "output_type": "stream",
     "text": [
      "/home/yuhui/.pyenv/versions/anaconda3-4.3.1/lib/python3.6/site-packages/sklearn/base.py:312: UserWarning: Trying to unpickle estimator PCA from version 0.19.1 when using version 0.19.0. This might lead to breaking code or invalid results. Use at your own risk.\n",
      "  UserWarning)\n"
     ]
    }
   ],
   "source": [
    "### load pca list\n",
    "import pickle\n",
    "from sklearn.externals import joblib\n",
    "from sklearn.decomposition import PCA\n",
    "\n",
    "pca = joblib.load(MODEL_PATH + \"pca1000.pkl\")\n",
    "print(\"PCA model loaded.\")"
   ]
  },
  {
   "cell_type": "code",
   "execution_count": 189,
   "metadata": {
    "scrolled": true
   },
   "outputs": [
    {
     "data": {
      "text/plain": [
       "(800,)"
      ]
     },
     "execution_count": 189,
     "metadata": {},
     "output_type": "execute_result"
    }
   ],
   "source": [
    "weights = pca.explained_variance_ratio_\n",
    "weights.shape"
   ]
  },
  {
   "cell_type": "code",
   "execution_count": 190,
   "metadata": {},
   "outputs": [
    {
     "data": {
      "text/plain": [
       "array([ 0.06531469,  0.05477736,  0.04021434,  0.03476161,  0.03281457,\n",
       "        0.03119269,  0.0275882 ,  0.02456331,  0.02282751,  0.02238703])"
      ]
     },
     "execution_count": 190,
     "metadata": {},
     "output_type": "execute_result"
    }
   ],
   "source": [
    "weights[:10]"
   ]
  },
  {
   "cell_type": "code",
   "execution_count": 191,
   "metadata": {
    "collapsed": true
   },
   "outputs": [],
   "source": [
    "from sklearn import preprocessing"
   ]
  },
  {
   "cell_type": "code",
   "execution_count": 192,
   "metadata": {
    "collapsed": true
   },
   "outputs": [],
   "source": [
    "min_max_scaler = preprocessing.MinMaxScaler()"
   ]
  },
  {
   "cell_type": "code",
   "execution_count": 197,
   "metadata": {},
   "outputs": [
    {
     "data": {
      "text/plain": [
       "array([[  6.53146858e-02,   5.47773632e-02,   4.02143372e-02,\n",
       "          3.47616116e-02,   3.28145699e-02,   3.11926870e-02,\n",
       "          2.75882004e-02,   2.45633068e-02,   2.28275115e-02,\n",
       "          2.23870320e-02,   1.93176516e-02,   1.42627493e-02,\n",
       "          1.34231369e-02,   1.21498472e-02,   1.18588110e-02,\n",
       "          1.16877185e-02,   1.10768017e-02,   1.08079307e-02,\n",
       "          9.51146334e-03,   8.77772822e-03,   8.52401133e-03,\n",
       "          8.25080680e-03,   7.52305215e-03,   7.11040802e-03,\n",
       "          6.92245764e-03,   6.27295497e-03,   6.17033637e-03,\n",
       "          6.08176622e-03,   5.62575143e-03,   5.23524627e-03,\n",
       "          5.18986541e-03,   5.04232368e-03,   5.02965600e-03,\n",
       "          4.83826337e-03,   4.79821863e-03,   4.64635358e-03,\n",
       "          4.55105205e-03,   4.49643801e-03,   4.44708305e-03,\n",
       "          4.30950083e-03,   4.19955356e-03,   3.83410408e-03,\n",
       "          3.77402226e-03,   3.71213046e-03,   3.65476039e-03,\n",
       "          3.55627953e-03,   3.52582940e-03,   3.37680606e-03,\n",
       "          3.32448597e-03,   3.29473872e-03,   3.25320493e-03,\n",
       "          3.17278486e-03,   3.13349100e-03,   3.07653473e-03,\n",
       "          3.04058839e-03,   3.01138666e-03,   2.96402713e-03,\n",
       "          2.89266344e-03,   2.86237970e-03,   2.82881513e-03,\n",
       "          2.77607954e-03,   2.75297027e-03,   2.70971832e-03,\n",
       "          2.69100285e-03,   2.64153395e-03,   2.63030031e-03,\n",
       "          2.61243651e-03,   2.51414625e-03,   2.46659233e-03,\n",
       "          2.42084758e-03,   2.39012630e-03,   2.36713361e-03,\n",
       "          2.34470208e-03,   2.31395183e-03,   2.28507491e-03,\n",
       "          2.27190639e-03,   2.25006815e-03,   2.24114128e-03,\n",
       "          2.20434611e-03,   2.17267623e-03,   2.14968049e-03,\n",
       "          2.11622384e-03,   2.08693410e-03,   2.05970178e-03,\n",
       "          2.04278470e-03,   2.00966599e-03,   1.99382955e-03,\n",
       "          1.96367414e-03,   1.96125609e-03,   1.93497868e-03,\n",
       "          1.92384972e-03,   1.86401468e-03,   1.83871273e-03,\n",
       "          1.82231796e-03,   1.79689984e-03,   1.79577374e-03,\n",
       "          1.78599162e-03,   1.77725328e-03,   1.72641870e-03,\n",
       "          1.71570586e-03,   1.69359332e-03,   1.67579681e-03,\n",
       "          1.65131922e-03,   1.64564763e-03,   1.63023377e-03,\n",
       "          1.62104157e-03,   1.60132219e-03,   1.59166256e-03,\n",
       "          1.58018417e-03,   1.56474230e-03,   1.55516075e-03,\n",
       "          1.53350754e-03,   1.52797732e-03,   1.52046672e-03,\n",
       "          1.51180696e-03,   1.49850808e-03,   1.48209948e-03,\n",
       "          1.47934515e-03,   1.45754994e-03,   1.45110932e-03,\n",
       "          1.43690299e-03,   1.42380611e-03,   1.40776712e-03,\n",
       "          1.39457608e-03,   1.38359100e-03,   1.37644063e-03,\n",
       "          1.36953764e-03,   1.36361172e-03,   1.35570542e-03,\n",
       "          1.33085116e-03,   1.32916097e-03,   1.31765613e-03,\n",
       "          1.30877220e-03,   1.29570170e-03,   1.28960537e-03,\n",
       "          1.28371952e-03,   1.28061919e-03,   1.26704945e-03,\n",
       "          1.25474030e-03,   1.24186822e-03,   1.24042723e-03,\n",
       "          1.22950917e-03,   1.21576371e-03,   1.20061680e-03,\n",
       "          1.19482799e-03,   1.19105419e-03,   1.17742122e-03,\n",
       "          1.17520259e-03,   1.15633563e-03,   1.14304464e-03,\n",
       "          1.13804806e-03,   1.13070635e-03,   1.12251942e-03,\n",
       "          1.10844627e-03,   1.10093523e-03,   1.09362295e-03,\n",
       "          1.08478875e-03,   1.08448782e-03,   1.06750683e-03,\n",
       "          1.06115053e-03,   1.05164156e-03,   1.04429316e-03,\n",
       "          1.04128913e-03,   1.03812044e-03,   1.03188219e-03,\n",
       "          1.02443316e-03,   1.01631588e-03,   1.01298870e-03,\n",
       "          9.95890599e-04,   9.92295720e-04,   9.85719205e-04,\n",
       "          9.75841223e-04,   9.75709100e-04,   9.67484985e-04,\n",
       "          9.66928614e-04,   9.53806311e-04,   9.44343737e-04,\n",
       "          9.36405057e-04,   9.27150325e-04,   9.22653258e-04,\n",
       "          9.18425860e-04,   9.13337380e-04,   9.07737852e-04,\n",
       "          8.99060034e-04,   8.93471008e-04,   8.89091938e-04,\n",
       "          8.82514873e-04,   8.68972853e-04,   8.59646302e-04,\n",
       "          8.54713501e-04,   8.53549289e-04,   8.48563554e-04,\n",
       "          8.46729758e-04,   8.34802772e-04,   8.32573908e-04,\n",
       "          8.28270839e-04,   8.17235065e-04,   8.13483230e-04,\n",
       "          8.12038582e-04,   8.02797383e-04,   7.99240280e-04,\n",
       "          7.95988561e-04,   7.87324963e-04,   7.78693017e-04,\n",
       "          7.76525118e-04,   7.73108159e-04,   7.63889547e-04,\n",
       "          7.55351996e-04,   7.52294829e-04,   7.43480408e-04,\n",
       "          7.38023481e-04,   7.33481076e-04,   7.30387660e-04,\n",
       "          7.27518311e-04,   7.18914521e-04,   7.14277023e-04,\n",
       "          7.09893239e-04,   6.98174215e-04,   6.97785591e-04,\n",
       "          6.96084207e-04,   6.90646238e-04,   6.85313424e-04,\n",
       "          6.79979852e-04,   6.74377525e-04,   6.70232561e-04,\n",
       "          6.68733014e-04,   6.63546711e-04,   6.60288639e-04,\n",
       "          6.59384632e-04,   6.56983268e-04,   6.49687187e-04,\n",
       "          6.47426645e-04,   6.41047244e-04,   6.35596248e-04,\n",
       "          6.34323871e-04,   6.29906975e-04,   6.21270815e-04,\n",
       "          6.20672872e-04,   6.16515091e-04,   6.12609560e-04,\n",
       "          6.07699321e-04,   6.01655746e-04,   5.96351540e-04,\n",
       "          5.93494683e-04,   5.86285326e-04,   5.81218625e-04,\n",
       "          5.79146232e-04,   5.76137861e-04,   5.73496691e-04,\n",
       "          5.65810370e-04,   5.63439273e-04,   5.62105942e-04,\n",
       "          5.58655791e-04,   5.56299825e-04,   5.53655395e-04,\n",
       "          5.50855263e-04,   5.46531366e-04,   5.43311000e-04,\n",
       "          5.39024005e-04,   5.36898445e-04,   5.35074162e-04,\n",
       "          5.29255138e-04,   5.24268178e-04,   5.21025350e-04,\n",
       "          5.20241249e-04,   5.16921046e-04,   5.10561500e-04,\n",
       "          5.06733765e-04,   5.03051129e-04,   5.01293437e-04,\n",
       "          4.97905002e-04,   4.94957185e-04,   4.93578984e-04,\n",
       "          4.89989416e-04,   4.89030385e-04,   4.86747220e-04,\n",
       "          4.82490182e-04,   4.81132485e-04,   4.79028983e-04,\n",
       "          4.75512517e-04,   4.74871587e-04,   4.69818125e-04,\n",
       "          4.66060924e-04,   4.62132193e-04,   4.58067080e-04,\n",
       "          4.56047443e-04,   4.54168499e-04,   4.51948710e-04,\n",
       "          4.46310143e-04,   4.44203152e-04,   4.42656789e-04,\n",
       "          4.38338164e-04,   4.34014079e-04,   4.32875225e-04,\n",
       "          4.31126155e-04,   4.28978913e-04,   4.26391988e-04,\n",
       "          4.22424202e-04,   4.19941369e-04,   4.16803077e-04,\n",
       "          4.13315877e-04,   4.12221065e-04,   4.09332860e-04,\n",
       "          4.03524290e-04,   4.02097111e-04,   4.00547613e-04,\n",
       "          3.97301525e-04,   3.96801932e-04,   3.93080131e-04,\n",
       "          3.89721743e-04,   3.88166023e-04,   3.86306833e-04,\n",
       "          3.85004326e-04,   3.82217444e-04,   3.81454428e-04,\n",
       "          3.79469909e-04,   3.76258032e-04,   3.75113448e-04,\n",
       "          3.73577665e-04,   3.70633336e-04,   3.69665709e-04,\n",
       "          3.66645519e-04,   3.64996911e-04,   3.62980425e-04,\n",
       "          3.60985742e-04,   3.60021205e-04,   3.56979192e-04,\n",
       "          3.54533719e-04,   3.54351746e-04,   3.51760452e-04,\n",
       "          3.50268610e-04,   3.48707317e-04,   3.44892241e-04,\n",
       "          3.43060389e-04,   3.41336736e-04,   3.38952339e-04,\n",
       "          3.37498104e-04,   3.36331624e-04,   3.34522290e-04,\n",
       "          3.31677850e-04,   3.29687361e-04,   3.28443144e-04,\n",
       "          3.26762987e-04,   3.25397928e-04,   3.23270306e-04,\n",
       "          3.21919552e-04,   3.19833144e-04,   3.18846766e-04,\n",
       "          3.16282502e-04,   3.13341663e-04,   3.12011238e-04,\n",
       "          3.11797774e-04,   3.08925789e-04,   3.06663152e-04,\n",
       "          3.05181336e-04,   3.03388948e-04,   3.02257216e-04,\n",
       "          3.00366414e-04,   2.99134556e-04,   2.96634522e-04,\n",
       "          2.94345925e-04,   2.93612149e-04,   2.92635539e-04,\n",
       "          2.90856382e-04,   2.87943676e-04,   2.87658051e-04,\n",
       "          2.86808202e-04,   2.85292881e-04,   2.84211921e-04,\n",
       "          2.82685683e-04,   2.79791966e-04,   2.77999084e-04,\n",
       "          2.76922234e-04,   2.75847357e-04,   2.74845617e-04,\n",
       "          2.74614315e-04,   2.73331339e-04,   2.72099344e-04,\n",
       "          2.70115422e-04,   2.67545702e-04,   2.65912807e-04,\n",
       "          2.63686186e-04,   2.62241259e-04,   2.61691825e-04,\n",
       "          2.60237638e-04,   2.57982581e-04,   2.56985020e-04,\n",
       "          2.55430761e-04,   2.53525904e-04,   2.52888384e-04,\n",
       "          2.52005014e-04,   2.51345852e-04,   2.49948850e-04,\n",
       "          2.48452684e-04,   2.46105567e-04,   2.45688631e-04,\n",
       "          2.44305907e-04,   2.42195798e-04,   2.41541968e-04,\n",
       "          2.39592992e-04,   2.39009465e-04,   2.37998196e-04,\n",
       "          2.37453877e-04,   2.34978786e-04,   2.34238523e-04,\n",
       "          2.33406977e-04,   2.31618369e-04,   2.31325871e-04,\n",
       "          2.29647535e-04,   2.28396193e-04,   2.27196023e-04,\n",
       "          2.27148971e-04,   2.24351749e-04,   2.22055323e-04,\n",
       "          2.21410334e-04,   2.20867017e-04,   2.19100719e-04,\n",
       "          2.18453284e-04,   2.17506773e-04,   2.17052204e-04,\n",
       "          2.15215078e-04,   2.14733104e-04,   2.13679486e-04,\n",
       "          2.12419742e-04,   2.11257690e-04,   2.10208120e-04,\n",
       "          2.08657080e-04,   2.07797912e-04,   2.05750054e-04,\n",
       "          2.04993789e-04,   2.04501130e-04,   2.02974949e-04,\n",
       "          2.01261339e-04,   2.00875908e-04,   2.00181422e-04,\n",
       "          1.99676770e-04,   1.98950298e-04,   1.97127278e-04,\n",
       "          1.97087514e-04,   1.95782369e-04,   1.95438912e-04,\n",
       "          1.93736273e-04,   1.93073868e-04,   1.92265987e-04,\n",
       "          1.90519605e-04,   1.88495790e-04,   1.88046863e-04,\n",
       "          1.87399583e-04,   1.86299773e-04,   1.85947175e-04,\n",
       "          1.85244423e-04,   1.84413440e-04,   1.83140673e-04,\n",
       "          1.82113274e-04,   1.81507380e-04,   1.80787425e-04,\n",
       "          1.79840349e-04,   1.79580210e-04,   1.79425336e-04,\n",
       "          1.77414307e-04,   1.77227550e-04,   1.75408330e-04,\n",
       "          1.74188916e-04,   1.74129383e-04,   1.73111457e-04,\n",
       "          1.72381709e-04,   1.71503682e-04,   1.71047635e-04,\n",
       "          1.70089002e-04,   1.68689136e-04,   1.68153527e-04,\n",
       "          1.66933035e-04,   1.65732918e-04,   1.65019849e-04,\n",
       "          1.64184447e-04,   1.63594434e-04,   1.63149265e-04,\n",
       "          1.62279673e-04,   1.61516724e-04,   1.59894273e-04,\n",
       "          1.59305623e-04,   1.59042222e-04,   1.58094470e-04,\n",
       "          1.57715607e-04,   1.56354115e-04,   1.56214262e-04,\n",
       "          1.55393635e-04,   1.54715588e-04,   1.53689553e-04,\n",
       "          1.52778833e-04,   1.52239504e-04,   1.51980445e-04,\n",
       "          1.51612392e-04,   1.51260866e-04,   1.50776321e-04,\n",
       "          1.49454339e-04,   1.48726014e-04,   1.48076054e-04,\n",
       "          1.47248849e-04,   1.46745596e-04,   1.45866101e-04,\n",
       "          1.45571918e-04,   1.43778860e-04,   1.43485885e-04,\n",
       "          1.43011445e-04,   1.41917832e-04,   1.41648819e-04,\n",
       "          1.40887375e-04,   1.40267909e-04,   1.39506975e-04,\n",
       "          1.38846526e-04,   1.38116965e-04,   1.37586205e-04,\n",
       "          1.35955537e-04,   1.35550111e-04,   1.34851807e-04,\n",
       "          1.34125327e-04,   1.33299187e-04,   1.32773731e-04,\n",
       "          1.31578088e-04,   1.30669853e-04,   1.30556373e-04,\n",
       "          1.29746719e-04,   1.29009539e-04,   1.28127667e-04,\n",
       "          1.27660579e-04,   1.25917742e-04,   1.25400296e-04,\n",
       "          1.24954439e-04,   1.24765062e-04,   1.23819465e-04,\n",
       "          1.22658228e-04,   1.22434995e-04,   1.21992698e-04,\n",
       "          1.21712983e-04,   1.20953833e-04,   1.20179585e-04,\n",
       "          1.19505320e-04,   1.19451880e-04,   1.18533422e-04,\n",
       "          1.18064214e-04,   1.17431680e-04,   1.16678525e-04,\n",
       "          1.15822068e-04,   1.15551789e-04,   1.15298446e-04,\n",
       "          1.14182068e-04,   1.14112946e-04,   1.13060492e-04,\n",
       "          1.12454866e-04,   1.11687844e-04,   1.11076184e-04,\n",
       "          1.10498507e-04,   1.10037470e-04,   1.09673893e-04,\n",
       "          1.09407974e-04,   1.08646026e-04,   1.07757719e-04,\n",
       "          1.07550672e-04,   1.07107703e-04,   1.06394823e-04,\n",
       "          1.05758500e-04,   1.05370998e-04,   1.04046510e-04,\n",
       "          1.03922608e-04,   1.03433158e-04,   1.02907217e-04,\n",
       "          1.02457907e-04,   1.02345774e-04,   1.01102148e-04,\n",
       "          1.00836385e-04,   1.00374513e-04,   9.98399236e-05,\n",
       "          9.91453405e-05,   9.86890349e-05,   9.77485978e-05,\n",
       "          9.68608306e-05,   9.63749442e-05,   9.59342755e-05,\n",
       "          9.54789207e-05,   9.52993811e-05,   9.47906532e-05,\n",
       "          9.41819154e-05,   9.39652138e-05,   9.38710694e-05,\n",
       "          9.29253655e-05,   9.25759135e-05,   9.22881490e-05,\n",
       "          9.20881065e-05,   9.18715031e-05,   9.10290268e-05,\n",
       "          9.01385873e-05,   8.97278703e-05,   8.91039358e-05,\n",
       "          8.86469735e-05,   8.78486861e-05,   8.74582745e-05,\n",
       "          8.73113989e-05,   8.69598917e-05,   8.65110896e-05,\n",
       "          8.54622823e-05,   8.54214562e-05,   8.51048906e-05,\n",
       "          8.48021458e-05,   8.44017824e-05,   8.41830233e-05,\n",
       "          8.35521087e-05,   8.29329448e-05,   8.24187008e-05,\n",
       "          8.21460618e-05,   8.17248858e-05,   8.12134320e-05,\n",
       "          8.02627796e-05,   7.99988692e-05,   7.97355616e-05,\n",
       "          7.93004798e-05,   7.86219555e-05,   7.85514739e-05,\n",
       "          7.81346173e-05,   7.79199132e-05,   7.75984358e-05,\n",
       "          7.72514931e-05,   7.69647288e-05,   7.61321603e-05,\n",
       "          7.52542349e-05,   7.52014428e-05,   7.46925038e-05,\n",
       "          7.45150553e-05,   7.38137410e-05,   7.34935063e-05,\n",
       "          7.32360913e-05,   7.28869279e-05,   7.25570132e-05,\n",
       "          7.23530593e-05,   7.23031850e-05,   7.18907898e-05,\n",
       "          7.13450371e-05,   7.12279324e-05,   7.08826587e-05,\n",
       "          7.04079011e-05,   6.99889470e-05,   6.97579754e-05,\n",
       "          6.94112473e-05,   6.89606019e-05,   6.84621515e-05,\n",
       "          6.83520205e-05,   6.79993323e-05,   6.79759902e-05,\n",
       "          6.74754888e-05,   6.71295355e-05,   6.65472930e-05,\n",
       "          6.63427770e-05,   6.59411017e-05,   6.56266068e-05,\n",
       "          6.53580068e-05,   6.49178159e-05,   6.42658371e-05,\n",
       "          6.39995488e-05,   6.36139741e-05,   6.32286853e-05,\n",
       "          6.31337990e-05,   6.30573499e-05,   6.27068052e-05,\n",
       "          6.21041200e-05,   6.13183568e-05,   6.10614634e-05,\n",
       "          6.10026047e-05,   6.07687243e-05,   6.05594492e-05,\n",
       "          6.04560548e-05,   5.98445124e-05,   5.93221110e-05,\n",
       "          5.89690333e-05,   5.87448404e-05,   5.84271950e-05,\n",
       "          5.82020245e-05,   5.81119833e-05,   5.79673099e-05,\n",
       "          5.75806611e-05,   5.74810126e-05,   5.70855505e-05,\n",
       "          5.65200850e-05,   5.61043075e-05,   5.58400266e-05,\n",
       "          5.53990872e-05,   5.49470477e-05,   5.47737018e-05,\n",
       "          5.46531081e-05,   5.42156802e-05,   5.40563387e-05,\n",
       "          5.36773993e-05,   5.33830012e-05,   5.30331247e-05,\n",
       "          5.29452949e-05,   5.27630835e-05,   5.23503068e-05,\n",
       "          5.20653579e-05,   5.16004392e-05,   5.14609964e-05,\n",
       "          5.12195282e-05,   5.11928669e-05,   5.05156426e-05,\n",
       "          5.03937794e-05,   5.01512034e-05,   4.99712303e-05,\n",
       "          4.96250010e-05,   4.94651287e-05,   4.92897213e-05,\n",
       "          4.90767606e-05,   4.85628618e-05,   4.83421157e-05,\n",
       "          4.80103648e-05,   4.79066816e-05,   4.75745183e-05,\n",
       "          4.74832269e-05,   4.70579821e-05,   4.67460992e-05,\n",
       "          4.65212398e-05,   4.64177928e-05,   4.62319727e-05,\n",
       "          4.57971885e-05,   4.54794028e-05,   4.53595782e-05,\n",
       "          4.52245637e-05,   4.49384176e-05,   4.48268289e-05,\n",
       "          4.46327296e-05,   4.42290578e-05,   4.37645498e-05,\n",
       "          4.37101944e-05,   4.35476199e-05,   4.34174202e-05,\n",
       "          4.31655281e-05,   4.28638427e-05,   4.27538939e-05,\n",
       "          4.25960300e-05,   4.20882493e-05,   4.20621887e-05,\n",
       "          4.18489600e-05,   4.16131631e-05,   4.13428985e-05,\n",
       "          4.10692200e-05,   4.10223305e-05,   4.09009720e-05,\n",
       "          4.06392633e-05,   4.03407045e-05,   4.01756198e-05,\n",
       "          3.99276009e-05,   3.97145725e-05,   3.94994243e-05,\n",
       "          3.93525855e-05,   3.92496523e-05,   3.89914860e-05,\n",
       "          3.88960644e-05,   3.86518204e-05,   3.84172064e-05,\n",
       "          3.80487515e-05,   3.79385741e-05,   3.77380662e-05,\n",
       "          3.75901187e-05,   3.72979321e-05,   3.71441283e-05,\n",
       "          3.67864025e-05,   3.66197403e-05,   3.63666180e-05,\n",
       "          3.63164006e-05,   3.61289312e-05,   3.59261019e-05,\n",
       "          3.57925693e-05,   3.55987539e-05,   3.53394100e-05,\n",
       "          3.51355063e-05,   3.50316287e-05,   3.49852759e-05,\n",
       "          3.46668466e-05,   3.44790701e-05,   3.42820364e-05,\n",
       "          3.40074533e-05,   3.37686940e-05,   3.36052127e-05,\n",
       "          3.34076326e-05,   3.32266202e-05,   3.31664254e-05,\n",
       "          3.29266798e-05,   3.28309633e-05,   3.26758369e-05,\n",
       "          3.25943705e-05,   3.23862975e-05,   3.21578040e-05,\n",
       "          3.19606713e-05,   3.18738872e-05,   3.16357381e-05,\n",
       "          3.14901655e-05,   3.11980735e-05,   3.09911981e-05,\n",
       "          3.07821806e-05,   3.06639056e-05,   3.04862784e-05,\n",
       "          3.03021661e-05,   3.02025345e-05]])"
      ]
     },
     "execution_count": 197,
     "metadata": {},
     "output_type": "execute_result"
    }
   ],
   "source": [
    "weights.reshape(1,-1)"
   ]
  },
  {
   "cell_type": "code",
   "execution_count": 198,
   "metadata": {
    "collapsed": true
   },
   "outputs": [],
   "source": [
    "weights_scaler = min_max_scaler.fit_transform(weights.reshape(-1,1))"
   ]
  },
  {
   "cell_type": "code",
   "execution_count": 200,
   "metadata": {
    "collapsed": true
   },
   "outputs": [],
   "source": [
    "weights_normal= weights_scaler.flatten()"
   ]
  },
  {
   "cell_type": "code",
   "execution_count": 205,
   "metadata": {
    "collapsed": true
   },
   "outputs": [],
   "source": [
    "tmp = -np.log(weights)"
   ]
  },
  {
   "cell_type": "code",
   "execution_count": 206,
   "metadata": {},
   "outputs": [
    {
     "data": {
      "text/plain": [
       "array([  2.72853837,   2.90447825,   3.2135317 ,   3.35924161,\n",
       "         3.41688266,   3.4675716 ,   3.59036712,   3.70650154,\n",
       "         3.77978882,   3.79927342,   3.94673601,   4.25010409,\n",
       "         4.31077543,   4.41043868,   4.43468414,   4.44921669,\n",
       "         4.5029023 ,   4.52747509,   4.65525754,   4.73553765,\n",
       "         4.76486824,   4.79744429,   4.88978335,   4.94619565,\n",
       "         4.97298442,   5.07150775,   5.08800192,   5.10246013,\n",
       "         5.18040075,   5.25234139,   5.26104752,   5.28988826,\n",
       "         5.29240369,   5.33119943,   5.33951055,   5.37167254,\n",
       "         5.39239685,   5.40446975,   5.41550689,   5.4469332 ,\n",
       "         5.47277706,   5.56381949,   5.57961393,   5.59614932,\n",
       "         5.61172474,   5.63904036,   5.64763958,   5.69082497,\n",
       "         5.70644021,   5.71542841,   5.72811464,   5.75314557,\n",
       "         5.76560756,   5.7839514 ,   5.79570423,   5.80535462,\n",
       "         5.82120642,   5.8455776 ,   5.85610194,   5.86789734,\n",
       "         5.88671558,   5.89507485,   5.91091059,   5.91784135,\n",
       "         5.93639549,   5.94065725,   5.94747196,   5.985822  ,\n",
       "         6.0049177 ,   6.02363756,   6.03640907,   6.0460755 ,\n",
       "         6.05559693,   6.06879847,   6.08135647,   6.08713598,\n",
       "         6.09679477,   6.10077004,   6.11732436,   6.13179558,\n",
       "         6.14243606,   6.15812199,   6.17205923,   6.18519407,\n",
       "         6.19344135,   6.20978674,   6.21769809,   6.232938  ,\n",
       "         6.23417015,   6.24765897,   6.25342704,   6.28502269,\n",
       "         6.29868956,   6.30764598,   6.32169241,   6.3223193 ,\n",
       "         6.32778149,   6.33268621,   6.36170613,   6.3679307 ,\n",
       "         6.38090278,   6.39146652,   6.40618078,   6.40962128,\n",
       "         6.41903186,   6.42468639,   6.43692563,   6.44297617,\n",
       "         6.45021388,   6.46003413,   6.46617636,   6.48019766,\n",
       "         6.48381043,   6.48873794,   6.49444968,   6.50328528,\n",
       "         6.51429563,   6.51615576,   6.53099838,   6.53542696,\n",
       "         6.54526518,   6.55442163,   6.56575043,   6.5751648 ,\n",
       "         6.58307299,   6.58825437,   6.59328209,   6.59761842,\n",
       "         6.60343335,   6.62193657,   6.62320738,   6.63190078,\n",
       "         6.63866583,   6.64870288,   6.65341902,   6.65799354,\n",
       "         6.66041157,   6.67106435,   6.68082666,   6.69113841,\n",
       "         6.69229942,   6.70114024,   6.71238283,   6.72491986,\n",
       "         6.72975305,   6.73291649,   6.74442864,   6.74631473,\n",
       "         6.76249921,   6.77405984,   6.77844071,   6.78491275,\n",
       "         6.79217964,   6.804796  ,   6.81159525,   6.81825929,\n",
       "         6.82637001,   6.82664746,   6.84242942,   6.84840155,\n",
       "         6.85740295,   6.86441503,   6.86729579,   6.87034347,\n",
       "         6.87637077,   6.88361583,   6.89157107,   6.89485021,\n",
       "         6.91187315,   6.91548939,   6.92213903,   6.93221067,\n",
       "         6.93234607,   6.94081065,   6.94138589,   6.95504994,\n",
       "         6.96502033,   6.97346242,   6.98339484,   6.98825706,\n",
       "         6.99284938,   6.99840522,   7.00455493,   7.01416075,\n",
       "         7.02039667,   7.02530991,   7.03273492,   7.04819867,\n",
       "         7.05898953,   7.06474423,   7.06610727,   7.07196557,\n",
       "         7.07412897,   7.08831506,   7.09098856,   7.09617036,\n",
       "         7.10958379,   7.11418525,   7.1159627 ,   7.1274082 ,\n",
       "         7.13184893,   7.13592574,   7.14686948,   7.15789366,\n",
       "         7.16068157,   7.1650916 ,   7.17708735,   7.1883267 ,\n",
       "         7.19238225,   7.20416814,   7.21153492,   7.21770876,\n",
       "         7.22193512,   7.22587139,   7.23776809,   7.24423968,\n",
       "         7.25039597,   7.2670419 ,   7.26759868,   7.27003992,\n",
       "         7.27788282,   7.28563427,   7.29344739,   7.30172048,\n",
       "         7.3078858 ,   7.31012566,   7.31791131,   7.32283349,\n",
       "         7.32420353,   7.32785201,   7.33901956,   7.34250506,\n",
       "         7.3524074 ,   7.36094703,   7.3629509 ,   7.36993841,\n",
       "         7.38374348,   7.38470639,   7.39142776,   7.39778276,\n",
       "         7.40583034,   7.41582513,   7.42468023,   7.4294823 ,\n",
       "         7.44170398,   7.45038358,   7.45395555,   7.45916358,\n",
       "         7.46375839,   7.47725157,   7.481451  ,   7.48382022,\n",
       "         7.48997703,   7.49420315,   7.49896809,   7.50403846,\n",
       "         7.51191886,   7.51782866,   7.52575045,   7.5297016 ,\n",
       "         7.5331052 ,   7.54403994,   7.55350722,   7.55971186,\n",
       "         7.56121791,   7.56762041,   7.57999946,   7.58752481,\n",
       "         7.59481874,   7.59831893,   7.60510126,   7.61103929,\n",
       "         7.61382766,   7.62112677,   7.62308593,   7.62776563,\n",
       "         7.63654999,   7.63936789,   7.64374946,   7.65111735,\n",
       "         7.65246613,   7.66316491,   7.67119419,   7.67965958,\n",
       "         7.68849492,   7.69291371,   7.69704229,   7.70194186,\n",
       "         7.71449646,   7.71922855,   7.72271583,   7.73251988,\n",
       "         7.74243358,   7.74506103,   7.74910981,   7.75410279,\n",
       "         7.76015147,   7.76950053,   7.77539545,   7.78289669,\n",
       "         7.79129842,   7.79395079,   7.80098189,   7.81527387,\n",
       "         7.81881693,   7.82267791,   7.83081506,   7.83207331,\n",
       "         7.84149707,   7.85007755,   7.85407742,   7.8588786 ,\n",
       "         7.86225599,   7.86952089,   7.87151917,   7.87673526,\n",
       "         7.88523539,   7.88828205,   7.89238464,   7.9002973 ,\n",
       "         7.90291145,   7.91111507,   7.91562167,   7.92116165,\n",
       "         7.92667209,   7.92934763,   7.93783306,   7.9447071 ,\n",
       "         7.94522051,   7.95256015,   7.95681024,   7.96127762,\n",
       "         7.97227853,   7.97760407,   7.98264107,   7.98965105,\n",
       "         7.99395067,   7.99741291,   8.00280704,   8.01134639,\n",
       "         8.01736574,   8.02114681,   8.02627546,   8.03046173,\n",
       "         8.03702172,   8.04120888,   8.04771112,   8.05079993,\n",
       "         8.05887475,   8.06821639,   8.07247135,   8.07315574,\n",
       "         8.08240947,   8.08976064,   8.09460441,   8.10049492,\n",
       "         8.1042322 ,   8.11050745,   8.11461707,   8.12300974,\n",
       "         8.13075487,   8.13325088,   8.13658262,   8.14268095,\n",
       "         8.15274567,   8.1537381 ,   8.15669685,   8.16199425,\n",
       "         8.1657904 ,   8.17117494,   8.18146421,   8.18789274,\n",
       "         8.19177384,   8.1956629 ,   8.19930101,   8.20014293,\n",
       "         8.2048258 ,   8.20934332,   8.2166612 ,   8.22622016,\n",
       "         8.2323421 ,   8.24075085,   8.24624564,   8.24834299,\n",
       "         8.25391535,   8.26261849,   8.26649276,   8.27255918,\n",
       "         8.28004456,   8.28256234,   8.28606157,   8.28868067,\n",
       "         8.29425426,   8.30025814,   8.30974998,   8.31144555,\n",
       "         8.3170894 ,   8.32576408,   8.32846732,   8.33656894,\n",
       "         8.33900741,   8.34324746,   8.34553716,   8.35601532,\n",
       "         8.35917063,   8.36272695,   8.3704195 ,   8.37168314,\n",
       "         8.37896488,   8.38442875,   8.38969737,   8.3899045 ,\n",
       "         8.40229543,   8.412584  ,   8.41549286,   8.41794977,\n",
       "         8.42597903,   8.42893837,   8.43328057,   8.43537266,\n",
       "         8.44387267,   8.44611468,   8.45103339,   8.45694633,\n",
       "         8.46243189,   8.46741247,   8.47481842,   8.47894453,\n",
       "         8.48884846,   8.49253088,   8.49493705,   8.50242799,\n",
       "         8.5109063 ,   8.51282321,   8.51628649,   8.51881065,\n",
       "         8.52245552,   8.53166096,   8.5318627 ,   8.53850688,\n",
       "         8.5402627 ,   8.54901274,   8.5524377 ,   8.5566308 ,\n",
       "         8.56575545,   8.57643489,   8.57881935,   8.58226741,\n",
       "         8.5881535 ,   8.59004793,   8.5938344 ,   8.59833036,\n",
       "         8.60525599,   8.61088168,   8.61421425,   8.61818867,\n",
       "         8.62344105,   8.6248886 ,   8.62575139,   8.63702284,\n",
       "         8.63807606,   8.64839398,   8.65537012,   8.65571195,\n",
       "         8.66157491,   8.6657993 ,   8.67090582,   8.67356847,\n",
       "         8.67918872,   8.68745297,   8.69063315,   8.69791781,\n",
       "         8.70513299,   8.70944479,   8.71452009,   8.71812016,\n",
       "         8.72084504,   8.72618933,   8.73090187,   8.74099776,\n",
       "         8.74468604,   8.74634085,   8.75231779,   8.7547171 ,\n",
       "         8.76338715,   8.76428202,   8.76954908,   8.77392204,\n",
       "         8.78057588,   8.78651922,   8.7900556 ,   8.79175869,\n",
       "         8.79418335,   8.79650462,   8.79971314,   8.80851963,\n",
       "         8.81340478,   8.81778454,   8.82338655,   8.82681011,\n",
       "         8.83282147,   8.83484031,   8.84723413,   8.84927389,\n",
       "         8.85258589,   8.86026232,   8.86215967,   8.86754975,\n",
       "         8.87195633,   8.87739596,   8.88214137,   8.88740966,\n",
       "         8.89125989,   8.90318266,   8.90616916,   8.91133411,\n",
       "         8.91673592,   8.92291443,   8.92686415,   8.93591006,\n",
       "         8.94283662,   8.94370545,   8.94992632,   8.95562421,\n",
       "         8.96248339,   8.96613555,   8.97988171,   8.98399957,\n",
       "         8.98756138,   8.98907809,   8.99668598,   9.0061087 ,\n",
       "         9.00793032,   9.01154937,   9.01384488,   9.02010163,\n",
       "         9.02652339,   9.03214967,   9.03259694,   9.04031559,\n",
       "         9.0442819 ,   9.04965384,   9.05608805,   9.06345544,\n",
       "         9.06579174,   9.06798661,   9.07771629,   9.07832185,\n",
       "         9.08758756,   9.09295861,   9.09980269,   9.10529425,\n",
       "         9.11050855,   9.11468962,   9.1179992 ,   9.12042679,\n",
       "         9.12741542,   9.1356252 ,   9.13754845,   9.14167566,\n",
       "         9.14835364,   9.15435236,   9.15802312,   9.17067255,\n",
       "         9.17186409,   9.17658497,   9.18168278,   9.1860585 ,\n",
       "         9.18715354,   9.19937918,   9.2020113 ,   9.20660224,\n",
       "         9.21194242,   9.2189237 ,   9.22353671,   9.2331117 ,\n",
       "         9.24223535,   9.2472643 ,   9.25184723,   9.25660506,\n",
       "         9.25848724,   9.26383975,   9.27028238,   9.27258591,\n",
       "         9.27358832,   9.28371391,   9.28748156,   9.29059482,\n",
       "         9.29276476,   9.29511966,   9.30433213,   9.31416221,\n",
       "         9.31872913,   9.32570705,   9.33084867,   9.3398947 ,\n",
       "         9.34434874,   9.34602953,   9.35006356,   9.35523795,\n",
       "         9.36743542,   9.36791324,   9.37162606,   9.37518971,\n",
       "         9.37992204,   9.38251728,   9.39004006,   9.39747817,\n",
       "         9.40369819,   9.40701165,   9.412152  ,   9.41842991,\n",
       "         9.43020456,   9.43349806,   9.43679488,   9.44226638,\n",
       "         9.45085957,   9.45175643,   9.45707736,   9.45982901,\n",
       "         9.46396329,   9.46844431,   9.47216331,   9.48303978,\n",
       "         9.49463838,   9.49534014,   9.50213082,   9.50450937,\n",
       "         9.51396565,   9.51831351,   9.52182221,   9.52660125,\n",
       "         9.53113792,   9.53395282,   9.53464238,   9.5403624 ,\n",
       "         9.54798277,   9.54962551,   9.55448474,   9.56120507,\n",
       "         9.56717323,   9.5704788 ,   9.57546164,   9.5819752 ,\n",
       "         9.5892295 ,   9.59083943,   9.59601267,   9.596356  ,\n",
       "         9.60374616,   9.60888644,   9.61759769,   9.62067567,\n",
       "         9.62674861,   9.63152935,   9.6356306 ,   9.64238846,\n",
       "         9.65248237,   9.65663452,   9.66267739,   9.66875248,\n",
       "         9.67025429,   9.67146593,   9.67704058,   9.68669823,\n",
       "         9.6994313 ,   9.7036296 ,   9.704594  ,   9.70843531,\n",
       "         9.71188504,   9.71359382,   9.72376082,   9.73252845,\n",
       "         9.73849811,   9.74230723,   9.74772911,   9.75159042,\n",
       "         9.75313866,   9.75563133,   9.76232379,   9.76405588,\n",
       "         9.77095953,   9.7809145 ,   9.78829797,   9.79301962,\n",
       "         9.80094744,   9.80914061,   9.81230037,   9.81450447,\n",
       "         9.82254039,   9.82548375,   9.83251851,   9.83801819,\n",
       "         9.84459385,   9.84625135,   9.84969879,   9.85755276,\n",
       "         9.86301075,   9.87198037,   9.87468639,   9.87938969,\n",
       "         9.87991035,   9.89322751,   9.89564281,   9.90046805,\n",
       "         9.90406311,   9.9110158 ,   9.91424261,   9.91779499,\n",
       "         9.92212494,   9.93265148,   9.93720742,   9.94409364,\n",
       "         9.94625557,   9.95321327,   9.95513403,   9.96413006,\n",
       "         9.97077974,   9.97560158,   9.97782771,   9.98183895,\n",
       "         9.99128785,   9.99825102,  10.0008892 ,  10.00387017,\n",
       "        10.0102175 ,  10.01270374,  10.01704312,  10.02612857,\n",
       "        10.03668643,  10.0379292 ,  10.04165551,  10.04464981,\n",
       "        10.05046834,  10.05748192,  10.06005028,  10.0637495 ,\n",
       "        10.07574197,  10.07636135,  10.08144361,  10.08709402,\n",
       "        10.09360989,  10.10025162,  10.10139399,  10.10435673,\n",
       "        10.11077588,  10.11814956,  10.12225022,  10.12844272,\n",
       "        10.13379237,  10.13922446,  10.14294888,  10.14556797,\n",
       "        10.15216724,  10.15461749,  10.16091669,  10.16700512,\n",
       "        10.17664229,  10.17954218,  10.18484126,  10.18876934,\n",
       "        10.19657267,  10.20070485,  10.21038228,  10.21492311,\n",
       "        10.22185929,  10.22324111,  10.2284166 ,  10.23404646,\n",
       "        10.23777025,  10.24319992,  10.25051179,  10.25629836,\n",
       "        10.25925923,  10.26058327,  10.26972676,  10.27515808,\n",
       "        10.28088906,  10.28893084,  10.2959764 ,  10.30082936,\n",
       "        10.30672616,  10.31215919,  10.31397248,  10.32122729,\n",
       "        10.32413848,  10.32887469,  10.33137097,  10.33777514,\n",
       "        10.3448554 ,  10.35100443,  10.35372347,  10.36122312,\n",
       "        10.36583527,  10.37515421,  10.38180733,  10.38857459,\n",
       "        10.39242431,  10.39823386,  10.40429136,  10.40758471])"
      ]
     },
     "execution_count": 206,
     "metadata": {},
     "output_type": "execute_result"
    }
   ],
   "source": [
    "tmp"
   ]
  },
  {
   "cell_type": "markdown",
   "metadata": {},
   "source": [
    "#### balanced shuffle"
   ]
  },
  {
   "cell_type": "code",
   "execution_count": 75,
   "metadata": {
    "collapsed": true
   },
   "outputs": [],
   "source": [
    "mX, my = X_train[::6], y_train[::6]"
   ]
  },
  {
   "cell_type": "code",
   "execution_count": 207,
   "metadata": {},
   "outputs": [
    {
     "data": {
      "text/plain": [
       "1117"
      ]
     },
     "execution_count": 207,
     "metadata": {},
     "output_type": "execute_result"
    }
   ],
   "source": [
    "len(my)"
   ]
  },
  {
   "cell_type": "code",
   "execution_count": 208,
   "metadata": {},
   "outputs": [
    {
     "data": {
      "text/plain": [
       "587.0"
      ]
     },
     "execution_count": 208,
     "metadata": {},
     "output_type": "execute_result"
    }
   ],
   "source": [
    "my.sum()"
   ]
  },
  {
   "cell_type": "code",
   "execution_count": 209,
   "metadata": {
    "collapsed": true
   },
   "outputs": [],
   "source": [
    "clf_GPC_rbf_ani = GaussianProcessClassifier(1.0 * RBF(tmp))"
   ]
  },
  {
   "cell_type": "code",
   "execution_count": null,
   "metadata": {
    "collapsed": true
   },
   "outputs": [],
   "source": [
    "clf_GPC_rbf_ani.fit(mX, my)"
   ]
  },
  {
   "cell_type": "code",
   "execution_count": null,
   "metadata": {
    "collapsed": true
   },
   "outputs": [],
   "source": [
    "y_pred = clf_GPC_rbf_ani.predict(X_test)"
   ]
  },
  {
   "cell_type": "code",
   "execution_count": null,
   "metadata": {
    "collapsed": true
   },
   "outputs": [],
   "source": [
    "print(\"Gaussian Process Classification with anisotropic rbf kernel\")\n",
    "print(classification_report(y_test, y_pred, target_names=target_names))"
   ]
  },
  {
   "cell_type": "markdown",
   "metadata": {},
   "source": [
    "### Ensemble method"
   ]
  },
  {
   "cell_type": "markdown",
   "metadata": {},
   "source": [
    "####  Random Forest"
   ]
  },
  {
   "cell_type": "code",
   "execution_count": null,
   "metadata": {
    "collapsed": true
   },
   "outputs": [],
   "source": [
    "from sklearn.ensemble import RandomForestClassifier"
   ]
  },
  {
   "cell_type": "code",
   "execution_count": null,
   "metadata": {
    "collapsed": true
   },
   "outputs": [],
   "source": [
    "clf_RF = RandomForestClassifier()"
   ]
  },
  {
   "cell_type": "code",
   "execution_count": null,
   "metadata": {
    "collapsed": true
   },
   "outputs": [],
   "source": [
    "clf_RF.fit(X_train, y_train)"
   ]
  },
  {
   "cell_type": "code",
   "execution_count": null,
   "metadata": {
    "collapsed": true
   },
   "outputs": [],
   "source": [
    "y_pred = clf_RF.predict(X_test)"
   ]
  },
  {
   "cell_type": "code",
   "execution_count": null,
   "metadata": {
    "collapsed": true
   },
   "outputs": [],
   "source": [
    "print(\"Random Forest Classifier\")\n",
    "print(classification_report(y_test, y_pred, target_names=target_names))"
   ]
  },
  {
   "cell_type": "markdown",
   "metadata": {
    "collapsed": true
   },
   "source": [
    "#### Adboost"
   ]
  },
  {
   "cell_type": "code",
   "execution_count": 20,
   "metadata": {
    "collapsed": true
   },
   "outputs": [],
   "source": [
    "from sklearn.ensemble import AdaBoostClassifier"
   ]
  },
  {
   "cell_type": "code",
   "execution_count": 21,
   "metadata": {
    "collapsed": true
   },
   "outputs": [],
   "source": [
    "clf_Adb = AdaBoostClassifier()"
   ]
  },
  {
   "cell_type": "code",
   "execution_count": 22,
   "metadata": {},
   "outputs": [
    {
     "data": {
      "text/plain": [
       "AdaBoostClassifier(algorithm='SAMME.R', base_estimator=None,\n",
       "          learning_rate=1.0, n_estimators=50, random_state=None)"
      ]
     },
     "execution_count": 22,
     "metadata": {},
     "output_type": "execute_result"
    }
   ],
   "source": [
    "clf_Adb.fit(X_train, y_train)"
   ]
  },
  {
   "cell_type": "code",
   "execution_count": 23,
   "metadata": {
    "collapsed": true
   },
   "outputs": [],
   "source": [
    "y_pred = clf_Adb.predict(X_test)"
   ]
  },
  {
   "cell_type": "code",
   "execution_count": 24,
   "metadata": {},
   "outputs": [
    {
     "name": "stdout",
     "output_type": "stream",
     "text": [
      "AdaBoost Classifier\n",
      "             precision    recall  f1-score   support\n",
      "\n",
      "    no edge       0.78      0.68      0.72      1564\n",
      "       edge       0.74      0.82      0.78      1736\n",
      "\n",
      "avg / total       0.76      0.76      0.75      3300\n",
      "\n"
     ]
    }
   ],
   "source": [
    "print(\"AdaBoost Classifier\")\n",
    "print(classification_report(y_test, y_pred, target_names=target_names))"
   ]
  },
  {
   "cell_type": "markdown",
   "metadata": {},
   "source": [
    "#### XGBoost"
   ]
  },
  {
   "cell_type": "code",
   "execution_count": 25,
   "metadata": {
    "collapsed": true
   },
   "outputs": [],
   "source": [
    "from xgboost import XGBClassifier"
   ]
  },
  {
   "cell_type": "code",
   "execution_count": 26,
   "metadata": {
    "collapsed": true
   },
   "outputs": [],
   "source": [
    "clf_XGb = XGBClassifier()"
   ]
  },
  {
   "cell_type": "code",
   "execution_count": 27,
   "metadata": {},
   "outputs": [
    {
     "data": {
      "text/plain": [
       "XGBClassifier(base_score=0.5, booster='gbtree', colsample_bylevel=1,\n",
       "       colsample_bytree=1, gamma=0, learning_rate=0.1, max_delta_step=0,\n",
       "       max_depth=3, min_child_weight=1, missing=None, n_estimators=100,\n",
       "       n_jobs=1, nthread=None, objective='binary:logistic', random_state=0,\n",
       "       reg_alpha=0, reg_lambda=1, scale_pos_weight=1, seed=None,\n",
       "       silent=True, subsample=1)"
      ]
     },
     "execution_count": 27,
     "metadata": {},
     "output_type": "execute_result"
    }
   ],
   "source": [
    "clf_XGb.fit(X_train, y_train)"
   ]
  },
  {
   "cell_type": "code",
   "execution_count": 28,
   "metadata": {
    "collapsed": true
   },
   "outputs": [],
   "source": [
    "y_pred = clf_XGb.predict(X_test)"
   ]
  },
  {
   "cell_type": "code",
   "execution_count": 29,
   "metadata": {},
   "outputs": [
    {
     "name": "stdout",
     "output_type": "stream",
     "text": [
      "XGBoost Classifier\n",
      "             precision    recall  f1-score   support\n",
      "\n",
      "    no edge       0.92      0.75      0.83      1564\n",
      "       edge       0.81      0.94      0.87      1736\n",
      "\n",
      "avg / total       0.86      0.85      0.85      3300\n",
      "\n"
     ]
    }
   ],
   "source": [
    "print(\"XGBoost Classifier\")\n",
    "print(classification_report(y_test, y_pred, target_names=target_names))"
   ]
  },
  {
   "cell_type": "markdown",
   "metadata": {},
   "source": [
    "### Load model"
   ]
  },
  {
   "cell_type": "code",
   "execution_count": 43,
   "metadata": {
    "collapsed": true
   },
   "outputs": [],
   "source": [
    "from sklearn.externals import joblib"
   ]
  },
  {
   "cell_type": "code",
   "execution_count": 3,
   "metadata": {
    "collapsed": true
   },
   "outputs": [],
   "source": [
    "model_clf= joblib.load(\"clf_GPC_rbf_iso.pkl\")"
   ]
  },
  {
   "cell_type": "code",
   "execution_count": null,
   "metadata": {
    "collapsed": true
   },
   "outputs": [],
   "source": []
  },
  {
   "cell_type": "markdown",
   "metadata": {
    "collapsed": true
   },
   "source": [
    "### Save model"
   ]
  },
  {
   "cell_type": "code",
   "execution_count": null,
   "metadata": {
    "collapsed": true
   },
   "outputs": [],
   "source": [
    "from sklearn.externals import joblib"
   ]
  },
  {
   "cell_type": "code",
   "execution_count": 44,
   "metadata": {},
   "outputs": [
    {
     "data": {
      "text/plain": [
       "'/run/user/1000/gvfs/smb-share:server=azlab-fs01,share=東研究室/個人work/富井/PYUSCT_train/dataset010/model/'"
      ]
     },
     "execution_count": 44,
     "metadata": {},
     "output_type": "execute_result"
    }
   ],
   "source": [
    "FPATH = MODEL_PATH\n",
    "FPATH"
   ]
  },
  {
   "cell_type": "code",
   "execution_count": 45,
   "metadata": {
    "collapsed": true
   },
   "outputs": [],
   "source": [
    "model_clf = clf_GPC_rbf_iso\n",
    "model_name = \"clf_GPC_rbf_iso\""
   ]
  },
  {
   "cell_type": "code",
   "execution_count": 46,
   "metadata": {},
   "outputs": [
    {
     "data": {
      "text/plain": [
       "['/run/user/1000/gvfs/smb-share:server=azlab-fs01,share=東研究室/個人work/富井/PYUSCT_train/dataset010/model/clf_GPC_rbf_iso.pkl']"
      ]
     },
     "execution_count": 46,
     "metadata": {},
     "output_type": "execute_result"
    }
   ],
   "source": [
    "joblib.dump(model_clf, FPATH + model_name + \".pkl\") "
   ]
  },
  {
   "cell_type": "code",
   "execution_count": null,
   "metadata": {
    "collapsed": true
   },
   "outputs": [],
   "source": []
  }
 ],
 "metadata": {
  "anaconda-cloud": {},
  "kernelspec": {
   "display_name": "Python 3",
   "language": "python",
   "name": "python3"
  },
  "language_info": {
   "codemirror_mode": {
    "name": "ipython",
    "version": 3
   },
   "file_extension": ".py",
   "mimetype": "text/x-python",
   "name": "python",
   "nbconvert_exporter": "python",
   "pygments_lexer": "ipython3",
   "version": "3.6.3"
  }
 },
 "nbformat": 4,
 "nbformat_minor": 2
}
